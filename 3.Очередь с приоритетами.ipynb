{
 "cells": [
  {
   "cell_type": "markdown",
   "metadata": {},
   "source": [
    "<!-- vscode-jupyter-toc -->\n",
    "<!-- THIS CELL WILL BE REPLACED ON TOC UPDATE. DO NOT WRITE YOUR TEXT IN THIS CELL -->\n",
    "<a id='toc0_'></a>**Содержание**    \n",
    "- [Очереди с приоритетами - куча](#toc1_)    \n",
    "  - [Задача на программирование: очередь с приоритетами](#toc1_1_)    \n",
    "- [Практика](#toc2_)    \n",
    "  - [Непрерывный рюкзак через кучу](#toc2_1_)    \n",
    "- [Хаффман через кучу](#toc3_)    \n",
    "\n",
    "<!-- vscode-jupyter-toc-config\n",
    "\tnumbering=false\n",
    "\tanchor=true\n",
    "\tminLevel=1\n",
    "\tmaxLevel=6\n",
    "\t/vscode-jupyter-toc-config -->\n",
    "<!-- /vscode-jupyter-toc -->"
   ]
  },
  {
   "cell_type": "markdown",
   "metadata": {},
   "source": [
    "# <a id='toc1_'></a>[Очереди с приоритетами - куча](#toc0_)\n",
    "\n",
    "## <a id='toc1_1_'></a>[Задача на программирование: очередь с приоритетами](#toc0_)\n",
    "Первая строка входа содержит число операций 1≤n≤10^5. Каждая из последующих n строк задают операцию одного из следующих двух типов:\n",
    "\n",
    "    Insert x, где 0≤x≤10^9 — целое число;\n",
    "    ExtractMax.\n",
    "\n",
    "Первая операция добавляет число x в очередь с приоритетами, вторая — извлекает максимальное число и выводит его.\n"
   ]
  },
  {
   "cell_type": "code",
   "execution_count": 1,
   "metadata": {},
   "outputs": [],
   "source": [
    "class inputer():\n",
    "    def __init__(self):\n",
    "        self._ptr = 0\n",
    "    def __call__(self):\n",
    "        self._ptr += 1\n",
    "        try:\n",
    "            return INPUTS.splitlines()[self._ptr-1]\n",
    "        except IndexError:\n",
    "            self._ptr = 1\n",
    "            return INPUTS.splitlines()[self._ptr-1]\n",
    "        \n",
    "input = inputer()"
   ]
  },
  {
   "cell_type": "code",
   "execution_count": 2,
   "metadata": {},
   "outputs": [],
   "source": [
    "INPUTS = \"\"\"6\n",
    "Insert 200\n",
    "Insert 10\n",
    "ExtractMax\n",
    "Insert 5\n",
    "Insert 500\n",
    "ExtractMax\"\"\""
   ]
  },
  {
   "cell_type": "code",
   "execution_count": 3,
   "metadata": {
    "collapsed": false
   },
   "outputs": [
    {
     "name": "stdout",
     "output_type": "stream",
     "text": [
      "200\n",
      "500\n"
     ]
    }
   ],
   "source": [
    "heap = []\n",
    "\n",
    "def insert(h, val):\n",
    "    h.append(val)\n",
    "    i = len(h) - 1\n",
    "    j = (i - 1) // 2\n",
    "    \n",
    "    #Up\n",
    "    while (i != 0) and (h[i] > h[j]):\n",
    "        h[i], h[j] = h[j], h[i]\n",
    "        i, j = j, (j - 1) // 2\n",
    "    # print(h)\n",
    "\n",
    "def extractMax(h):\n",
    "    res = h[0]\n",
    "    h[0], h[-1] = h[-1], h[0]\n",
    "    h.pop()\n",
    "    \n",
    "    size = len(h)\n",
    "    i = 0\n",
    "    \n",
    "    #Down\n",
    "    while 2*i + 1 < size:\n",
    "        left, right = 2*i + 1, 2*i + 2\n",
    "        j = left\n",
    "        if right < size and h[right] > h[left]:\n",
    "            j = right\n",
    "        if h[i] >= h[j]:\n",
    "            break\n",
    "        h[i], h[j] = h[j], h[i]\n",
    "        i = j\n",
    "    return res \n",
    "\n",
    "def heapify(h):\n",
    "    res = []\n",
    "    for i in h:\n",
    "        insert(res, i)\n",
    "    return res\n",
    "\n",
    "heappop = extractMax\n",
    "\n",
    "input.__init__()\n",
    "n = int(input())\n",
    "for i in range(n):\n",
    "    s = input()\n",
    "    if s[0] == \"I\":\n",
    "        insert(heap, int(s[7:]))\n",
    "    else:\n",
    "        print(extractMax(heap))\n",
    "        "
   ]
  },
  {
   "cell_type": "code",
   "execution_count": 4,
   "metadata": {},
   "outputs": [
    {
     "data": {
      "image/png": "[encoded data removed]",
      "text/plain": [
       "<Figure size 432x288 with 1 Axes>"
      ]
     },
     "metadata": {
      "needs_background": "light"
     },
     "output_type": "display_data"
    }
   ],
   "source": [
    "from matplotlib import pyplot as plt\n",
    "import time, random\n",
    "\n",
    "def rnd_heap(N):\n",
    "    h = []\n",
    "    for i in range(N):\n",
    "        insert(h, random.randint(1, N))\n",
    "    for i in range(N):\n",
    "        extractMax(h)\n",
    "        \n",
    "def timed(f, *args, n_iter=100):\n",
    "    acc = float('inf')\n",
    "    for i in range(n_iter):\n",
    "        t0 = time.perf_counter()\n",
    "        f(*args)\n",
    "        t1 = time.perf_counter()\n",
    "        acc = min(acc, t1 - t0)\n",
    "    return acc\n",
    "\n",
    "N = 1000\n",
    "xs = list(range(10, N))\n",
    "plt.plot(xs, [timed(rnd_heap, x, n_iter=1) for x in xs])\n",
    "plt.grid(True)\n",
    "plt.show()\n"
   ]
  },
  {
   "cell_type": "markdown",
   "metadata": {},
   "source": [
    "# <a id='toc2_'></a>[Практика](#toc0_)\n",
    "## <a id='toc2_1_'></a>[Непрерывный рюкзак через кучу](#toc0_)"
   ]
  },
  {
   "cell_type": "code",
   "execution_count": 5,
   "metadata": {},
   "outputs": [],
   "source": [
    "INPUTS = \"\"\"3 50\n",
    "60 20\n",
    "100 50\n",
    "120 30\"\"\""
   ]
  },
  {
   "cell_type": "code",
   "execution_count": 6,
   "metadata": {},
   "outputs": [],
   "source": [
    "import heapq\n",
    "\n",
    "def knapsack(capacity, val_weights):\n",
    "    curr_cost, curr_weight = 0, 0\n",
    "    val_weights.sort(key=lambda x: x[0] / x[1], reverse=True)\n",
    "    for t in val_weights:\n",
    "        if curr_weight <= capacity:\n",
    "            put_weight = min(capacity - curr_weight, t[1])\n",
    "            curr_cost += put_weight * ( t[0] / t[1] ) \n",
    "            curr_weight += put_weight\n",
    "        else:\n",
    "            break\n",
    "    return curr_cost\n",
    "\n",
    "def knapsack_heapq(capacity, val_weights):\n",
    "    order = [(-v / w, w) for v, w in val_weights]  # (-) т.к. это мин-куча\n",
    "    heapq.heapify(order)\n",
    "\n",
    "    acc = 0\n",
    "    while order and capacity:\n",
    "        v_per_w, w = heapq.heappop(order)\n",
    "        can_take = min(w, capacity)\n",
    "        acc += -v_per_w * can_take\n",
    "        capacity -= can_take\n",
    "    return acc\n",
    "\n",
    "def knapsack_myheap(capacity, val_weights):\n",
    "    order = [(v / w, w) for v, w in val_weights]  # (-) т.к. это мин-куча\n",
    "    heapify(order)\n",
    "\n",
    "    acc = 0\n",
    "    while order and capacity:\n",
    "        v_per_w, w = heappop(order)\n",
    "        can_take = min(w, capacity)\n",
    "        acc += v_per_w * can_take\n",
    "        capacity -= can_take\n",
    "    return acc\n",
    "\n",
    "\n",
    "def main():\n",
    "    reader = (tuple(map(int, line.split())) for line in INPUTS.split('\\n'))\n",
    "    n, capacity = next(reader)\n",
    "    val_weights = list(reader)\n",
    "    assert len(val_weights) == n\n",
    "    opt_value = knapsack_heapq(capacity, val_weights)\n",
    "    print(\"{:.3f}\".format(opt_value))\n",
    "\n",
    "def test(func):\n",
    "    assert func(0, [(60, 20)]) == 0.0\n",
    "    assert func(25, [(60, 20)]) == 60.0\n",
    "    assert func(25, [(60, 20), (0, 20)]) == 60.0\n",
    "    assert func(25, [(60, 20), (50, 50)]) == 60.0 + 5.0\n",
    "    assert func(50, [(60, 20), (100, 50), (120, 30)]) == 180.0\n",
    "\n",
    "    for attempt in range(100):\n",
    "        n = random.randint(1, 1000)\n",
    "        capacity = random.randint(0, 2 * 10 ** 6)\n",
    "        val_weights = []\n",
    "        for i in range(n):\n",
    "            val_weights.append((random.randint(0, 2 * 10 ** 6),\n",
    "                                random.randint(1, 2 * 10 ** 6)))\n",
    "\n",
    "        t = timed(func, capacity, val_weights)\n",
    "        assert t < 5\n",
    "\n",
    "test(knapsack_heapq)\n",
    "test(knapsack_myheap)\n",
    "test(knapsack)"
   ]
  },
  {
   "cell_type": "code",
   "execution_count": 7,
   "metadata": {},
   "outputs": [
    {
     "data": {
      "image/png": "[encoded data removed]",
      "text/plain": [
       "<Figure size 432x288 with 1 Axes>"
      ]
     },
     "metadata": {
      "needs_background": "light"
     },
     "output_type": "display_data"
    }
   ],
   "source": [
    "def rnd_case(n, func):\n",
    "    capacity = random.randint(0, 2 * 10 ** 6)\n",
    "    val_weights = []\n",
    "    for i in range(n):\n",
    "        val_weights.append((random.randint(0, 2 * 10 ** 6),\n",
    "                            random.randint(1, 2 * 10 ** 6)))\n",
    "    func(capacity, val_weights)\n",
    "   \n",
    "N = 10000\n",
    "xs = list(range(1000, N, 100))\n",
    "plt.plot(xs, [timed(rnd_case, x, knapsack, n_iter=1) for x in xs],\n",
    "         label=\"naive\")\n",
    "plt.plot(xs, [timed(rnd_case, x, knapsack_heapq, n_iter=1) for x in xs],\n",
    "         label=\"builtin heapq\")\n",
    "plt.plot(xs, [timed(rnd_case, x, knapsack_myheap, n_iter=1) for x in xs],\n",
    "         label=\"myheapq\")\n",
    "plt.legend()\n",
    "plt.grid(True)\n",
    "plt.show()\n"
   ]
  },
  {
   "cell_type": "markdown",
   "metadata": {},
   "source": [
    "# <a id='toc3_'></a>[Хаффман через кучу](#toc0_)"
   ]
  },
  {
   "cell_type": "code",
   "execution_count": 2,
   "metadata": {},
   "outputs": [
    {
     "name": "stdout",
     "output_type": "stream",
     "text": [
      "Node(left=Node(left=Leaf(char='A'), right=Leaf(char='k')), right=Node(left=Leaf(char='d'), right=Node(left=Leaf(char='K'), right=Leaf(char='b'))))\n",
      "Node(left=Leaf(char='u'), right=Node(left=Leaf(char='H'), right=Leaf(char='S')))\n",
      "Node(left=Node(left=Leaf(char='y'), right=Leaf(char='M')), right=Node(left=Leaf(char='t'), right=Leaf(char='n')))\n",
      "Node(left=Node(left=Leaf(char='r'), right=Leaf(char='h')), right=Node(left=Leaf(char='N'), right=Leaf(char='n')))\n",
      "Node(left=Node(left=Leaf(char='O'), right=Leaf(char='Q')), right=Node(left=Leaf(char='D'), right=Leaf(char='g')))\n",
      "Node(left=Node(left=Leaf(char='C'), right=Leaf(char='r')), right=Node(left=Leaf(char='c'), right=Node(left=Leaf(char='j'), right=Leaf(char='v'))))\n",
      "Node(left=Leaf(char='R'), right=Leaf(char='P'))\n",
      "Node(left=Node(left=Leaf(char='x'), right=Leaf(char='Q')), right=Node(left=Leaf(char='g'), right=Leaf(char='s')))\n",
      "Leaf(char='w')\n",
      "Node(left=Leaf(char='G'), right=Node(left=Leaf(char='F'), right=Leaf(char='O')))\n",
      "Leaf(char='H')\n",
      "Node(left=Leaf(char='H'), right=Leaf(char='E'))\n",
      "Node(left=Node(left=Leaf(char='v'), right=Leaf(char='B')), right=Node(left=Leaf(char='q'), right=Leaf(char='g')))\n",
      "Node(left=Node(left=Leaf(char='m'), right=Leaf(char='C')), right=Node(left=Leaf(char='Y'), right=Leaf(char='g')))\n",
      "Node(left=Leaf(char='H'), right=Leaf(char='D'))\n",
      "Leaf(char='d')\n",
      "Node(left=Node(left=Leaf(char='T'), right=Leaf(char='E')), right=Node(left=Leaf(char='N'), right=Leaf(char='d')))\n",
      "Node(left=Node(left=Leaf(char='b'), right=Leaf(char='c')), right=Node(left=Leaf(char='i'), right=Node(left=Leaf(char='h'), right=Leaf(char='T'))))\n",
      "Node(left=Leaf(char='C'), right=Node(left=Leaf(char='J'), right=Leaf(char='H')))\n",
      "Leaf(char='h')\n",
      "Node(left=Leaf(char='f'), right=Node(left=Leaf(char='g'), right=Leaf(char='d')))\n",
      "Leaf(char='y')\n",
      "Node(left=Leaf(char='Z'), right=Leaf(char='y'))\n",
      "Node(left=Node(left=Leaf(char='H'), right=Leaf(char='B')), right=Node(left=Leaf(char='a'), right=Leaf(char='b')))\n",
      "Leaf(char='B')\n",
      "Node(left=Node(left=Leaf(char='a'), right=Leaf(char='R')), right=Node(left=Leaf(char='k'), right=Leaf(char='D')))\n",
      "Node(left=Leaf(char='r'), right=Node(left=Leaf(char='p'), right=Leaf(char='T')))\n",
      "Node(left=Node(left=Leaf(char='t'), right=Leaf(char='M')), right=Node(left=Leaf(char='i'), right=Node(left=Leaf(char='u'), right=Leaf(char='o'))))\n",
      "Node(left=Node(left=Leaf(char='l'), right=Leaf(char='b')), right=Node(left=Leaf(char='B'), right=Leaf(char='J')))\n",
      "Node(left=Node(left=Leaf(char='y'), right=Leaf(char='n')), right=Node(left=Leaf(char='I'), right=Leaf(char='E')))\n",
      "Leaf(char='s')\n",
      "Node(left=Node(left=Leaf(char='U'), right=Leaf(char='z')), right=Node(left=Leaf(char='w'), right=Leaf(char='k')))\n",
      "Node(left=Node(left=Leaf(char='l'), right=Leaf(char='M')), right=Node(left=Leaf(char='S'), right=Node(left=Leaf(char='o'), right=Leaf(char='y'))))\n",
      "Node(left=Node(left=Leaf(char='T'), right=Leaf(char='u')), right=Node(left=Leaf(char='f'), right=Leaf(char='y')))\n",
      "Node(left=Node(left=Leaf(char='z'), right=Leaf(char='s')), right=Node(left=Leaf(char='D'), right=Leaf(char='F')))\n",
      "Node(left=Leaf(char='I'), right=Node(left=Leaf(char='z'), right=Leaf(char='A')))\n",
      "Leaf(char='X')\n",
      "Leaf(char='Q')\n",
      "Node(left=Node(left=Leaf(char='T'), right=Leaf(char='O')), right=Node(left=Leaf(char='w'), right=Leaf(char='a')))\n",
      "Node(left=Node(left=Leaf(char='s'), right=Leaf(char='t')), right=Node(left=Leaf(char='w'), right=Leaf(char='W')))\n",
      "Node(left=Node(left=Leaf(char='u'), right=Leaf(char='l')), right=Node(left=Leaf(char='t'), right=Node(left=Leaf(char='i'), right=Leaf(char='Q'))))\n",
      "Node(left=Leaf(char='T'), right=Node(left=Leaf(char='u'), right=Leaf(char='W')))\n",
      "Leaf(char='N')\n",
      "Node(left=Node(left=Leaf(char='n'), right=Leaf(char='q')), right=Node(left=Leaf(char='L'), right=Leaf(char='F')))\n",
      "Node(left=Node(left=Leaf(char='y'), right=Leaf(char='E')), right=Node(left=Leaf(char='W'), right=Node(left=Leaf(char='t'), right=Leaf(char='x'))))\n",
      "Node(left=Node(left=Leaf(char='c'), right=Leaf(char='f')), right=Node(left=Leaf(char='F'), right=Node(left=Leaf(char='U'), right=Leaf(char='M'))))\n",
      "Node(left=Node(left=Leaf(char='u'), right=Leaf(char='I')), right=Node(left=Leaf(char='y'), right=Leaf(char='k')))\n",
      "Node(left=Leaf(char='y'), right=Node(left=Leaf(char='Y'), right=Leaf(char='r')))\n",
      "Leaf(char='n')\n",
      "Node(left=Node(left=Leaf(char='P'), right=Leaf(char='k')), right=Node(left=Leaf(char='T'), right=Node(left=Leaf(char='J'), right=Leaf(char='s'))))\n",
      "Node(left=Leaf(char='E'), right=Leaf(char='j'))\n",
      "Leaf(char='p')\n",
      "Leaf(char='R')\n",
      "Node(left=Node(left=Leaf(char='a'), right=Leaf(char='Q')), right=Node(left=Leaf(char='C'), right=Node(left=Leaf(char='v'), right=Leaf(char='t'))))\n",
      "Node(left=Leaf(char='o'), right=Leaf(char='i'))\n",
      "Node(left=Leaf(char='t'), right=Leaf(char='V'))\n",
      "Node(left=Leaf(char='C'), right=Node(left=Leaf(char='O'), right=Leaf(char='E')))\n",
      "Node(left=Node(left=Leaf(char='U'), right=Leaf(char='r')), right=Node(left=Leaf(char='N'), right=Node(left=Leaf(char='a'), right=Leaf(char='l'))))\n",
      "Node(left=Node(left=Leaf(char='S'), right=Leaf(char='d')), right=Node(left=Leaf(char='A'), right=Node(left=Leaf(char='D'), right=Leaf(char='H'))))\n",
      "Node(left=Node(left=Leaf(char='d'), right=Leaf(char='S')), right=Node(left=Leaf(char='u'), right=Node(left=Leaf(char='O'), right=Leaf(char='m'))))\n",
      "Node(left=Leaf(char='Z'), right=Leaf(char='B'))\n",
      "Node(left=Leaf(char='r'), right=Node(left=Leaf(char='e'), right=Leaf(char='A')))\n",
      "Node(left=Leaf(char='N'), right=Leaf(char='d'))\n",
      "Node(left=Leaf(char='G'), right=Leaf(char='d'))\n",
      "Node(left=Leaf(char='b'), right=Node(left=Leaf(char='v'), right=Leaf(char='H')))\n",
      "Node(left=Node(left=Leaf(char='F'), right=Leaf(char='v')), right=Node(left=Leaf(char='p'), right=Node(left=Leaf(char='K'), right=Leaf(char='k'))))\n",
      "Node(left=Node(left=Leaf(char='m'), right=Leaf(char='t')), right=Node(left=Leaf(char='e'), right=Node(left=Leaf(char='Z'), right=Leaf(char='s'))))\n",
      "Node(left=Node(left=Leaf(char='I'), right=Leaf(char='K')), right=Node(left=Leaf(char='s'), right=Leaf(char='i')))\n",
      "Node(left=Leaf(char='n'), right=Node(left=Leaf(char='z'), right=Leaf(char='h')))\n",
      "Node(left=Leaf(char='h'), right=Leaf(char='N'))\n",
      "Leaf(char='A')\n",
      "Node(left=Leaf(char='v'), right=Leaf(char='X'))\n",
      "Node(left=Leaf(char='x'), right=Leaf(char='R'))\n",
      "Leaf(char='Q')\n",
      "Leaf(char='d')\n",
      "Node(left=Node(left=Leaf(char='T'), right=Leaf(char='y')), right=Node(left=Leaf(char='p'), right=Node(left=Leaf(char='x'), right=Leaf(char='d'))))\n",
      "Node(left=Node(left=Leaf(char='l'), right=Leaf(char='g')), right=Node(left=Leaf(char='M'), right=Leaf(char='Q')))\n",
      "Node(left=Node(left=Leaf(char='O'), right=Leaf(char='q')), right=Node(left=Leaf(char='m'), right=Leaf(char='U')))\n",
      "Node(left=Node(left=Leaf(char='q'), right=Leaf(char='Z')), right=Node(left=Leaf(char='E'), right=Leaf(char='v')))\n",
      "Leaf(char='x')\n",
      "Node(left=Leaf(char='h'), right=Node(left=Leaf(char='I'), right=Leaf(char='e')))\n",
      "Node(left=Node(left=Leaf(char='k'), right=Leaf(char='b')), right=Node(left=Leaf(char='J'), right=Node(left=Leaf(char='F'), right=Leaf(char='x'))))\n",
      "Node(left=Node(left=Leaf(char='Z'), right=Leaf(char='T')), right=Node(left=Leaf(char='E'), right=Leaf(char='s')))\n",
      "Node(left=Node(left=Leaf(char='F'), right=Leaf(char='L')), right=Node(left=Leaf(char='N'), right=Node(left=Leaf(char='S'), right=Leaf(char='j'))))\n"
     ]
    }
   ],
   "source": [
    "import heapq\n",
    "from collections import Counter, namedtuple\n",
    "\n",
    "\n",
    "class Node(namedtuple(\"Node\", [\"left\", \"right\"])):\n",
    "    def walk(self, code, acc):\n",
    "        self.left.walk(code, acc + \"0\")\n",
    "        self.right.walk(code, acc + \"1\")\n",
    "\n",
    "        \n",
    "class Leaf(namedtuple(\"Leaf\", [\"char\"])):\n",
    "    def walk(self, code, acc):\n",
    "        code[self.char] = acc or \"0\"            # 0 для длины 1, чтоб код был не пустой\n",
    "\n",
    "\n",
    "def huffman_encode(s):\n",
    "    h = []\n",
    "    for ch, freq in Counter(s).items():\n",
    "        h.append( (freq, len(h), Leaf(ch)) )    # частота, счетчик (чтобы сравнивать его, а не лист), лист\n",
    "    heapq.heapify(h)\n",
    "    count = len(h)\n",
    "    while len(h) > 1:\n",
    "        freq1, _count1, left = heapq.heappop(h)\n",
    "        freq2, _count2, right = heapq.heappop(h)\n",
    "        heapq.heappush(h, (freq1 + freq2, count, Node(left, right)))\n",
    "        count += 1\n",
    "\n",
    "    code = {}\n",
    "    if h:\n",
    "        [(_freq, _count, root)] = h             # позиционное присваивание в списке, то же, что \"*_, root = h[0]\"\n",
    "        print(root)\n",
    "        root.walk(code, \"\")\n",
    "    return code\n",
    "\n",
    "def huffman_decode(encoded, code):\n",
    "    decode = {}\n",
    "    for k, v in code.items():\n",
    "        decode[v] = k\n",
    "    chunk, res = '', ''    \n",
    "    for ch in encoded:\n",
    "        chunk += ch\n",
    "        letter = decode.get(chunk, False)\n",
    "        if letter:\n",
    "            res += letter\n",
    "            chunk = ''\n",
    "    return res\n",
    "\n",
    "def main():\n",
    "    s = 'abracadabra'\n",
    "    code = huffman_encode(s)\n",
    "    encoded = \"\".join(code[ch] for ch in s)\n",
    "    print(len(s), len(encoded))\n",
    "    for ch in code:\n",
    "        print(\"{}: {}\".format(ch, code[ch]))\n",
    "    print(encoded)\n",
    "\n",
    "def test(n_iter=100):\n",
    "    import random, string\n",
    "    \n",
    "    for i in range(n_iter):\n",
    "        length = random.randint(0, 5)\n",
    "        s = \"\".join(random.choice(string.ascii_letters) for _ in range(length))\n",
    "        code = huffman_encode(s)\n",
    "        encoded = \"\".join(code[ch] for ch in s)\n",
    "        assert huffman_decode(encoded, code) == s\n",
    "        \n",
    "                    \n",
    "test()"
   ]
  },
  {
   "cell_type": "code",
   "execution_count": 2,
   "metadata": {},
   "outputs": [
    {
     "data": {
      "image/png": "[encoded data removed]",
      "text/plain": [
       "<Figure size 432x288 with 1 Axes>"
      ]
     },
     "metadata": {
      "needs_background": "light"
     },
     "output_type": "display_data"
    }
   ],
   "source": [
    "# график похож на n*log(n)\n",
    "from matplotlib import pyplot as plt\n",
    "import time, random, string\n",
    "\n",
    "def timed(f, *args, n_iter=100):\n",
    "    acc = float('inf')\n",
    "    for i in range(n_iter):\n",
    "        t0 = time.perf_counter_ns()\n",
    "        f(*args)\n",
    "        t1 = time.perf_counter_ns()\n",
    "        acc = min(acc, t1 - t0)\n",
    "    return acc\n",
    "\n",
    "\n",
    "N, step = 5000, 10\n",
    "sample = lambda x: ''.join(random.choice(string.ascii_letters + string.digits + ' ') for _ in range(x))\n",
    "args = [sample(x) for x in range(0, N, step)]    # аргументы\n",
    "xs = list(range(0, N, step))                     # подписи\n",
    "plt.plot(xs, [timed(huffman_encode, x, n_iter=10) for x in args], label=\"true_huffman\")\n",
    "plt.legend()\n",
    "plt.grid(True)\n",
    "plt.show()\n"
   ]
  }
 ],
 "metadata": {
  "kernelspec": {
   "display_name": "Python 3.8.5 64-bit ('py38')",
   "name": "python385jvsc74a57bd04a0ad87e8b5d33768bd025306b84ef7a0f3cfeaa852ee58d9b819e0e4cbb3e53"
  },
  "language_info": {
   "codemirror_mode": {
    "name": "ipython",
    "version": 2
   },
   "file_extension": ".py",
   "mimetype": "text/x-python",
   "name": "python",
   "nbconvert_exporter": "python",
   "pygments_lexer": "ipython2",
   "version": "3.8.5"
  },
  "metadata": {
   "interpreter": {
    "hash": "4a0ad87e8b5d33768bd025306b84ef7a0f3cfeaa852ee58d9b819e0e4cbb3e53"
   }
  }
 },
 "nbformat": 4,
 "nbformat_minor": 2
}
