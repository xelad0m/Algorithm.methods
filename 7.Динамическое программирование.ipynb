{
 "cells": [
  {
   "cell_type": "markdown",
   "metadata": {},
   "source": [
    "<!-- vscode-jupyter-toc -->\n",
    "<!-- THIS CELL WILL BE REPLACED ON TOC UPDATE. DO NOT WRITE YOUR TEXT IN THIS CELL -->\n",
    "<a id='toc0_'></a>**Содержание**    \n",
    "- [Наибольшая возрастающая подпоследовательность](#toc1_)    \n",
    "- [Расстояние редактирования (editing distance)](#toc2_)    \n",
    "- [Задача о рюкзаке (вариант, когда нельзя брать часть предмета)](#toc3_)    \n",
    "- [Перемножение последовательности матриц](#toc4_)    \n",
    "- [Независимые множества в деревьях](#toc5_)    \n",
    "- [Общие принципы](#toc6_)    \n",
    "- [+ Практика: Расстояние редактирования](#toc7_)    \n",
    "\n",
    "<!-- vscode-jupyter-toc-config\n",
    "\tnumbering=false\n",
    "\tanchor=true\n",
    "\tminLevel=1\n",
    "\tmaxLevel=1\n",
    "\t/vscode-jupyter-toc-config -->\n",
    "<!-- /vscode-jupyter-toc -->"
   ]
  },
  {
   "cell_type": "markdown",
   "metadata": {},
   "source": [
    "## Динамическое программирование: на примере числа Фибоначчи\n",
    "\n",
    "Вместо исходной задачи решается множествоперекрывающихся подзадач.   \n",
    "Ответы для подзадачхранятся в таблице.  \n",
    "Динамическое программирование назад (или сверхувниз): рекурсивно от больших задач к меньшим.  \n",
    "Динамическое программирование вперёд (или снизувверх): итеративно от меньших задач к большим.  \n",
    "Для некоторых задач можно уменьшить используемуюпамять, проанализировав структуру таблицы.  \n",
    "\n",
    "Для Фибоначчи рекурсивное вычисление очень не эффективно, одни и те же узлы вычисляются по несколько раз. Нужно использовать:\n",
    "### -> динамическое программирование назад (динамическое программирование сверху вниз, мемоизация, \"ленивое вычисление\")\n",
    "\n",
    "\tИнициализация F[0..n] = [−1,−1,..,−1] \n",
    "\tФункция FibTD(n)  # TD - top-down\n",
    "\tесли F[n] = −1:   # если нет в таблице, то рекурсивно вычислить и положить в таблицу\n",
    "\t\tесли n≤1:  \n",
    "\t\t\tF[n]←n  \n",
    "\t\tиначе:  \n",
    "\t\t\tF[n]←FibTD(n−1) + FibTD(n−2)  \n",
    "\tвернуть F[n]      # вернуть из таблицы\n",
    "\n",
    "Суть: все что вычисляется рекурсивно - сохранятеся в таблицу, если потом понадобится, то не вычислять, а брать готовое. Сам алгоритм не менятеся.\n",
    "Занимает O(n2)\n",
    "\n",
    "### -> динамическое программирование вперед (снизу вверх, bottom-up)\n",
    "\n",
    "\tФункция FibBU(n)  \n",
    "\tсоздать массив F[0..n] \n",
    "\tF[0]←0,F[1]←1  \n",
    "\tдля i от 2 до n:  \n",
    "\t\tF[i]←F[i−1]+F[i−2]\n",
    "\tвернутьF[n]\n",
    "\n",
    "Суть: вообще без рекурсии, просто выполняем формулу. Занимает O(n2)\n",
    "\n",
    "### -> уменьшение памяти\n",
    "\n",
    "Суть: без массива, без рекурсии, просто храним предыдущее и текущее, в которых накапливаем результат. Занимает O(n2)"
   ]
  },
  {
   "cell_type": "code",
   "execution_count": 1,
   "metadata": {},
   "outputs": [],
   "source": [
    "def fib(n):  # многочисленные лишние рекурсии fib(n - 1)\n",
    "    return 0 if n == 1 else 1 if n == 2 else fib(n - 1) + fib(n - 2)\n",
    "\n",
    "\n",
    "def fibTD(n):  # запоминаем результаты вызовов, чтоб не делать лишнюю рекурсию\n",
    "    F = [-1] * n\n",
    "    if F[n-1] == -1:\n",
    "        if n <= 2:\n",
    "            F[n-1] = n - 1\n",
    "        else:\n",
    "            F[n-1] = fibTD(n - 1) + fibTD(n - 2)\n",
    "    return F[n-1]\n",
    "\n",
    "\n",
    "def fibBU(n):  # запоминаем все вызовы, вообще без рекурсии \n",
    "    F = [0] * max(n, 2)\n",
    "    F[0], F[1] = 0, 1\n",
    "    for i in range(2, n):\n",
    "        F[i] = F[i-1] + F[i - 2]\n",
    "    return F[n-1]\n",
    "\n",
    "\n",
    "def fib_lol(n):  # запоминаем только реально нужные вызовы\n",
    "    f0, f1 = 0, 1\n",
    "    if n > 1:\n",
    "        for i in range(2, n):\n",
    "            f1, f0 = f1 + f0, f1\n",
    "        return f1\n",
    "    else:\n",
    "        return f1 if n == 2 else f0\n"
   ]
  },
  {
   "cell_type": "code",
   "execution_count": 2,
   "metadata": {},
   "outputs": [
    {
     "name": "stdout",
     "output_type": "stream",
     "text": [
      "fib 12188\n",
      "fibTD 35290\n",
      "fibBU 1402\n",
      "fib_lol 644\n"
     ]
    },
    {
     "data": {
      "image/png": "[encoded data removed]",
      "text/plain": [
       "<Figure size 432x288 with 1 Axes>"
      ]
     },
     "metadata": {
      "needs_background": "light"
     },
     "output_type": "display_data"
    }
   ],
   "source": [
    "from time import perf_counter_ns\n",
    "from matplotlib import pyplot as plt\n",
    "\n",
    "def timeit(func, *args, n_iter=100):\n",
    "    t1 = float('inf')\n",
    "    for _ in range(n):\n",
    "        t0 = perf_counter_ns()\n",
    "        func(*args)\n",
    "        t1 = min(t1, perf_counter_ns() - t0)\n",
    "    return t1\n",
    "\n",
    "n = 10\n",
    "funcs = [fib, fibTD, fibBU, fib_lol]\n",
    "\n",
    "for func in funcs:\n",
    "    t = timeit(func, n)\n",
    "    print(func.__name__, t)\n",
    "    plt.bar(func.__name__, t)\n",
    "plt.grid(True)\n",
    "plt.show()\n"
   ]
  },
  {
   "cell_type": "markdown",
   "metadata": {},
   "source": [
    "# <a id='toc1_'></a>[Наибольшая возрастающая подпоследовательность](#toc0_)\n",
    "\n",
    "\tФункция LISBottomUp(A[1..n]) # longest increasing subsequence  \n",
    "\tсоздать массив D[1..n]  \n",
    "\tдля i от 1 до n:  \n",
    "\t\tD[i]←1  \n",
    "\t\tдля j от 1 до i−1:  \n",
    "\t\t\tесли A[j]<A[i] и D[j]+1>D[i]:  \n",
    "\t\t\t\tD[i]←D[j]+1  \n",
    "\tans←0  \n",
    "\tдля i от 1 до n:  \n",
    "\t\tans←max(ans,D[i])  \n",
    "\tвернуть ans\n",
    "\n",
    "Чтобы была возможность восстановить сами последовательности надо сохранять индекс предыдущего элемента этой оптимальной последовательности. Тогда можно пройти по двум массивам и восстановить оптимальную последовательность:\n",
    "\n",
    "\tФункция LISBottomUp2(A[1..n])  \n",
    "\tсоздать массивы D[1..n], prev[1..n]\n",
    "\tдля i от 1 до n:  \n",
    "\t\tD[i]←1, prev[i]←1\n",
    "\t\tдля j от 1 до i−1:  \n",
    "\t\t\tесли A[j]<A[i] и D[j]+1>D[i]:  \n",
    "\t\t\t\tD[i]←D[j]+1, prev[i]←j   \n",
    "\tans←0  \n",
    "\tдля i от 1 до n:  \n",
    "\t\tans←max(ans,D[i])  \n",
    "\tвернуть ans\n",
    "\n",
    "\tВосстановление ответа  \n",
    "\tсоздать массив L[1..ans] {индексы НВП}  \n",
    "\tk←1\n",
    "\tдля i от 2 до n:  \n",
    "\t\tесли D[i]>D[k]:  \n",
    "\t\t\tk←i  \n",
    "\tj←ans  \n",
    "\tпока k>0:\n",
    "\t\tL[j]←k  \n",
    "\t\tj←j−1  \n",
    "\t\tk←prev[k]  \n",
    "\n",
    "Время работы O(n)"
   ]
  },
  {
   "cell_type": "markdown",
   "metadata": {},
   "source": [
    "Можно восстановить и без prev. Идем по D до элемента на 1 меньше (для МВП в A в D всегда будет 1,2,3,4...), если соответствующий эл-т A меньше, то это он и есть. Повторяем шаги."
   ]
  },
  {
   "cell_type": "markdown",
   "metadata": {},
   "source": [
    "## Задача на программирование: наибольшая последовательнократная подпоследовательность\n",
    "\n",
    "Дано целое число 1≤n≤10\\^3 и массив A\\[1..n] натуральных чисел, не превосходящих 2*10\\^9. Выведите максимальное 1≤k≤n, для которого найдётся подпоследовательность 1≤i1<i2<…<ik≤n длины k, в которой каждый элемент делится на предыдущий (формально: для  всех 1≤j<k: A\\[ij] % A\\[ij+1] == 0)."
   ]
  },
  {
   "cell_type": "code",
   "execution_count": 3,
   "metadata": {},
   "outputs": [],
   "source": [
    "INPUTS = \"\"\"4\n",
    "3 6 7 12\"\"\""
   ]
  },
  {
   "cell_type": "code",
   "execution_count": 4,
   "metadata": {},
   "outputs": [
    {
     "name": "stdout",
     "output_type": "stream",
     "text": [
      "3\n"
     ]
    }
   ],
   "source": [
    "reader = (line for line in INPUTS.split('\\n'))\n",
    "n = int(next(reader))\n",
    "A = list(map(int, next(reader).split()))\n",
    "\n",
    "    \n",
    "def LCSBottomUp(A):  # longest common subsequence\n",
    "    n = len(A)\n",
    "    D = [0] * n\n",
    "    for i in range(n):\n",
    "        D[i] = 1\n",
    "        for j in range(i):\n",
    "            if (A[i] % A[j] == 0) and (D[j] + 1 > D[i]):\n",
    "                D[i] = D[i] + 1\n",
    "    ans = 0\n",
    "    for i in range(n):\n",
    "        ans = max(ans, D[i])\n",
    "    return ans\n",
    "\n",
    "\n",
    "print(LCSBottomUp(A))\n",
    "\n",
    "def test():\n",
    "    assert LCSBottomUp([]) == 0\n",
    "    assert LCSBottomUp([1,2]) == 2\n",
    "    assert LCSBottomUp([1,2,4]) == 3\n",
    "    \n",
    "test()"
   ]
  },
  {
   "cell_type": "markdown",
   "metadata": {},
   "source": [
    "## Задача на программирование повышенной сложности: наибольшая невозрастающая подпоследовательность\n",
    "\n",
    "Дано целое число 1≤n≤10\\^5 и массив A[1…n], содержащий неотрицательные целые числа, не превосходящие 10\\^9. Найдите наибольшую невозрастающую подпоследовательность в A. В первой строке выведите её длину k, во второй — её индексы 1≤i1<i2<…<ik≤n (таким образом, A[i1]≥A[i2]≥…≥A[in])."
   ]
  },
  {
   "cell_type": "code",
   "execution_count": 5,
   "metadata": {},
   "outputs": [],
   "source": [
    "INPUTS = \"\"\"5\n",
    "5 3 4 4 2\"\"\""
   ]
  },
  {
   "cell_type": "code",
   "execution_count": 6,
   "metadata": {},
   "outputs": [
    {
     "name": "stdout",
     "output_type": "stream",
     "text": [
      "4\n",
      "1 3 4 5\n"
     ]
    }
   ],
   "source": [
    "reader = (line for line in INPUTS.split('\\n'))\n",
    "n = int(next(reader))\n",
    "A = list(map(int, next(reader).split()))\n",
    "\n",
    "    \n",
    "def LNIS(A, LNIS=True):  # longest not increasing subsequence\n",
    "    n = len(A)\n",
    "    D = [0] * n\n",
    "    \n",
    "    for i in range(n):\n",
    "        D[i] = 1\n",
    "        for j in range(i):\n",
    "            if ((A[j] >= A[i]) if LNIS else (A[j] < A[i])) and (D[j] + 1 > D[i]):   \n",
    "            # условие D[j]+1>D[i] чтоб пропустить повторные значения D[j] добавлять 1 только при увеличении\n",
    "                D[i] = D[i] + 1\n",
    "    ans = 0\n",
    "    for i in range(n):\n",
    "        ans = max(ans, D[i])\n",
    "    \n",
    "    return ans, D\n",
    "\n",
    "\n",
    "def LNISback(k, D, A):\n",
    "    n = len(D)\n",
    "    I = [0] * k\n",
    "\n",
    "    ki = 0\n",
    "    for i in range(n):\n",
    "        if D[i] == k:\n",
    "            ki = i + 1  # 1-base\n",
    "    \n",
    "    prevD, prevA = k, A[ki - 1]\n",
    "    I[k-1] = ki    \n",
    "    for i in range(ki-1, -1, -1):\n",
    "        if (D[i] == prevD - 1) and A[i] >= prevA: \n",
    "            I[D[i]-1] = i + 1   # 1-base\n",
    "            prevD, prevA = D[i], A[i]\n",
    "\n",
    "    return I\n",
    "\n",
    "k, D = LNIS(A)\n",
    "print(k)\n",
    "print(' '.join(map(str, LNISback(k, D, A))))"
   ]
  },
  {
   "cell_type": "code",
   "execution_count": 7,
   "metadata": {},
   "outputs": [
    {
     "name": "stdout",
     "output_type": "stream",
     "text": [
      "4\n",
      "1 3 4 5 "
     ]
    },
    {
     "data": {
      "text/plain": [
       "[None, None, None, None]"
      ]
     },
     "execution_count": 7,
     "metadata": {},
     "output_type": "execute_result"
    }
   ],
   "source": [
    "def lol(A):\n",
    "    n = len(A)\n",
    "    P = [0] * n         # P(i) предыдущий эл-т макс. посл-ти, приходящей в A[i] \n",
    "    M = [-1] * (n + 1)  # M(i) индекс в A: в A[M[i]] приходит макс. посл-ть длины j\n",
    "    \n",
    "    L = 0   # longest found sequence\n",
    "    for i in range(n):\n",
    "        lo = 1\n",
    "        hi = L\n",
    "        while lo <= hi:\n",
    "            mid = (lo + hi) // 2\n",
    "            if A[M[mid]] >=A[i]:\n",
    "                lo = mid + 1\n",
    "            else:\n",
    "                hi = mid - 1\n",
    "\n",
    "        newL = lo   # lo = max j ≤ L: A[M[j]] <= A[i]\n",
    "    \n",
    "        P[i] = M[newL-1]\n",
    "        M[newL] = i\n",
    "        \n",
    "        if newL > L:\n",
    "            L = newL    # new longest found sequence\n",
    "    \n",
    "    S = [0] * L\n",
    "    k = M[L]\n",
    "    for i in range(L - 1, -1, -1):\n",
    "        S[i] = k + 1 #A[k]\n",
    "        k = P[k]\n",
    "    \n",
    "    print(L)\n",
    "    return S\n",
    "\n",
    "reader = (line for line in INPUTS.split('\\n'))\n",
    "n = int(next(reader))\n",
    "A = list(map(int, next(reader).split()))\n",
    "\n",
    "list(map(lambda x: print(x, end=' '), lol(A)))"
   ]
  },
  {
   "cell_type": "markdown",
   "metadata": {},
   "source": [
    "# <a id='toc2_'></a>[Расстояние редактирования (editing distance)](#toc0_)\n",
    "это минимальное количество вставок, удалений изамен символов, необходимое дляпреобразования A в B. Данное число называется расстоянием редактирования или расстоянием Левенштейна.\n",
    "\n",
    "\n",
    "### Мемоизация (дин. прог. сверху вниз)\n",
    "\tсоздать двумерный массив D[0..n,0..m]  \n",
    "\tинициализировать все ячейки значением ∞  \n",
    "\t  \n",
    "\tФункция EditDistTD(i,j)  \n",
    "\tесли D[i,j] = ∞:  \n",
    "\t\tесли i = 0: D[i,j]←j  \n",
    "\t\tиначе если j = 0: D[i,j]←i  \n",
    "\t\tиначе:  \n",
    "\t\t\tins←EditDistTD(i,j−1) + 1  # предыдущий префикс уже оптимальный, прибавляем единицу на действие вставки\n",
    "\t\t\tdel←EditDistTD(i−1,j) + 1  # -''- на действие удаления\n",
    "\t\t\tsub←EditDistTD(i−1,j−1) + diff(A[i],B[j])  # -''- если нужна замена\n",
    "\t\t\tD[i,j]←min(ins,del,sub) # в ответ идет минимальное действие, сохраняющее оптимальность\n",
    "\tвернуть D[i,j]  \n",
    "\n",
    "### Дин. прог. сверху вниз)\n",
    "\tФункция EditDistBU(A[1..n], B[1..m])  # итеративный, без рекурсии\n",
    "\tсоздать массив D[0..n,0..m]  \n",
    "\tдля i от 0 до n:  \n",
    "\t\tD[i,0]←i  # макс.возм.расстояния\n",
    "\tдля j от 0 до m:  \n",
    "\t\tD[0,j]←j  # макс.возм.расстояния\n",
    "\tдля i от 1 до n:  \n",
    "\t\tдля j от 1 до m:  \n",
    "\t\t\tc←diff(A[i],B[j])\n",
    "\t\t\tD[i,j]←min(D[i−1,j]+1,D[i,j−1]+1,D[i−1,j−1]+c)  \n",
    "\tвернутьD[n,m]  \n",
    "\n",
    "+1, +1, +diff(A[i],B[j]) можно заменить на функции стоимости вставки inscost(B[j]), удаления delcost(A[i]), замены substcost(A[i], B[j]), будет найдено оптимальное расстояние для взвешенного редактирования"
   ]
  },
  {
   "cell_type": "markdown",
   "metadata": {},
   "source": [
    "## Задача на программирование: расстояние редактирования\n",
    "\n",
    "Вычислите расстояние редактирования двух данных непустых строк длины не более 10^2, содержащих строчные буквы латинского алфавита."
   ]
  },
  {
   "cell_type": "code",
   "execution_count": 8,
   "metadata": {},
   "outputs": [],
   "source": [
    "INPUTS = \"\"\"ab\n",
    "ab\"\"\"\n",
    "INPUTS = \"\"\"short\n",
    "ports123\"\"\""
   ]
  },
  {
   "cell_type": "code",
   "execution_count": 9,
   "metadata": {},
   "outputs": [
    {
     "data": {
      "text/plain": [
       "('short',\n",
       " 'ports123',\n",
       " [[0, 1, 2, 3, 4, 5, 6, 7, 8],\n",
       "  [1, 1, 2, 3, 4, 4, 5, 6, 7],\n",
       "  [2, 2, 2, 3, 4, 5, 5, 6, 7],\n",
       "  [3, 3, 2, 3, 4, 5, 6, 6, 7],\n",
       "  [4, 4, 3, 2, 3, 4, 5, 6, 7],\n",
       "  [5, 5, 4, 3, 2, 3, 4, 5, 6]])"
      ]
     },
     "execution_count": 9,
     "metadata": {},
     "output_type": "execute_result"
    }
   ],
   "source": [
    "A = INPUTS.split('\\n')[0]\n",
    "B = INPUTS.split('\\n')[1]\n",
    "\n",
    "\n",
    "def editDistBU(A, B):\n",
    "    n, m = len(A), len(B)\n",
    "    D = [[0]*(m + 1) for j in range(n + 1)]\n",
    "    \n",
    "    for i in range(n+1):\n",
    "        D[i][0] = i\n",
    "    for j in range(m+1):\n",
    "        D[0][j] = j\n",
    "    \n",
    "    for i in range(1, n+1):\n",
    "        for j in range(1, m+1):\n",
    "            c = 0 if A[i-1] == B[j-1] else 1\n",
    "            D[i][j] = min(D[i - 1][j] + 1, D[i][j - 1] + 1, D[i - 1][j - 1] + c)\n",
    "    return D #D[n][m] \n",
    "\n",
    "A, B, editDistBU(A, B)\n"
   ]
  },
  {
   "cell_type": "markdown",
   "metadata": {},
   "source": [
    "# <a id='toc3_'></a>[Задача о рюкзаке (вариант, когда нельзя брать часть предмета)](#toc0_)\n",
    "Вход: веса w1..wn ∈ N и стоимости c1..cn ∈ N данных n предметов; вместимость рюкзака W ∈ N.  \n",
    "Выход: максимальная стоимость предметов суммарного веса не более W.  \n",
    "Варианты: 1. Рюкзак с повторениями: неограниченное количество каждого из предметов. 2. Рюкзак без повторений: единственный экземпляр каждого предмета. \n",
    "\n",
    "\tФункция KnapsackWithRepsBU(W,w1..wn,c1..cn)  \t# с повторениями\n",
    "\tсоздать массив D[0..W] = [0..0]  \n",
    "\tдля w от 1 до W:  \n",
    "\t\tдля i от 1 до n:  \n",
    "\t\t\tесли wi≤w:  \n",
    "\t\t\t\tD[w]←max(D[w],D[w−wi] +ci)  \n",
    "\tвернутьD[W]\n",
    "\n",
    "\n",
    "\tKnapsackWithoutRepsBU(W,w1..wn,c1..cn)\t# без повторений\n",
    "\tсоздать массив D[0..W,0..n]  \n",
    "\tдля w от 0 до W:  \n",
    "\t\tD[w,0]←0  \n",
    "\tдля i от 0 до n:  \n",
    "\t\tD[0,i]←0  \n",
    "\tдля i от 1 до n:  \n",
    "\t\tдля w от 1 до W:  \n",
    "\t\t\tD[w,i]←D[w,i−1]  \n",
    "\t\t\tесли wi≤w:  \n",
    "\t\t\t\tD[w,i] = max(D[w,i],D[w−wi,i−1] + ci)  \n",
    "\tвернуть D[W,n]  \n"
   ]
  },
  {
   "cell_type": "markdown",
   "metadata": {},
   "source": [
    "## Задача на программирование: рюкзак\n",
    "Первая строка входа содержит целые числа 1≤W≤10\\^4 и 1≤n≤300 — вместимость рюкзака и число золотых слитков. Следующая строка содержит n целых чисел 0≤w1..wn≤10\\^5, задающих веса слитков. Найдите максимальный вес золота, который можно унести в рюкзаке."
   ]
  },
  {
   "cell_type": "code",
   "execution_count": 10,
   "metadata": {},
   "outputs": [],
   "source": [
    "INPUTS = \"\"\"16 5\n",
    "8 4 1 2 5\"\"\""
   ]
  },
  {
   "cell_type": "code",
   "execution_count": 11,
   "metadata": {},
   "outputs": [
    {
     "name": "stdout",
     "output_type": "stream",
     "text": [
      "16\n",
      "[8, 0, 1, 2, 5]\n",
      "True\n"
     ]
    },
    {
     "data": {
      "text/plain": [
       "[[0, 0, 0, 0, 0, 0],\n",
       " [0, 0, 0, 1, 1, 1],\n",
       " [0, 0, 0, 1, 2, 2],\n",
       " [0, 0, 0, 1, 3, 3],\n",
       " [0, 0, 4, 4, 4, 4],\n",
       " [0, 0, 4, 5, 5, 5],\n",
       " [0, 0, 4, 5, 6, 6],\n",
       " [0, 0, 4, 5, 7, 7],\n",
       " [0, 8, 8, 8, 8, 8],\n",
       " [0, 8, 8, 9, 9, 9],\n",
       " [0, 8, 8, 9, 10, 10],\n",
       " [0, 8, 8, 9, 11, 11],\n",
       " [0, 8, 12, 12, 12, 12],\n",
       " [0, 8, 12, 13, 13, 13],\n",
       " [0, 8, 12, 13, 14, 14],\n",
       " [0, 8, 12, 13, 15, 15],\n",
       " [0, 8, 12, 13, 15, 16]]"
      ]
     },
     "execution_count": 11,
     "metadata": {},
     "output_type": "execute_result"
    }
   ],
   "source": [
    "W, n = list(map(int, INPUTS.split('\\n')[0].split()))\n",
    "Wn = list(map(int, INPUTS.split('\\n')[1].split()))\n",
    "\n",
    "def knapsackWoRepsBU(W, n, Wn):\n",
    "    # C[i] == W[i]\n",
    "    D = [[0]*(n + 1) for j in range(W + 1)]     # D = [[1..n] * W] <=> D[w][i]\n",
    "    \n",
    "    for i in range(1, n+1):\n",
    "        for w in range(1, W+1):\n",
    "            D[w][i] = D[w][i - 1]\n",
    "            if Wn[i - 1] <= w:\n",
    "                D[w][i] = max(D[w][i], D[w - Wn[i - 1]][i - 1] + Wn[i - 1]) \n",
    "                \n",
    "    return D \n",
    "\n",
    "def unpack(D, Wn):\n",
    "    # если вес изменился, значит предмет задействован, ищем в следующей строке, \n",
    "    # начиная со сдвига на стоимость последнего исп. предмета \n",
    "    \n",
    "    wi = [0] * len(Wn)\n",
    "    n = len(D[-1]) - 1\n",
    "    w = len(D) - 1\n",
    "    \n",
    "    # сука индексы\n",
    "    i, dw = 0, 0\n",
    "    while i < n:\n",
    "        if D[-1-dw][-i] > D[-1-dw][-i-1]:\n",
    "            wi[-i+1]= Wn[-i+1]\n",
    "            dw = Wn[-i]\n",
    "        else: dw = 0\n",
    "        i = i + 1\n",
    "            \n",
    "    return wi\n",
    "\n",
    "print(knapsackWoRepsBU(W, n, Wn)[-1][-1])\n",
    "print(unpack(knapsackWoRepsBU(W, n, Wn), Wn))\n",
    "print(sum(unpack(knapsackWoRepsBU(W, n, Wn), Wn)) == knapsackWoRepsBU(W, n, Wn)[-1][-1])\n",
    "\n",
    "knapsackWoRepsBU(W, n, Wn)"
   ]
  },
  {
   "cell_type": "code",
   "execution_count": 12,
   "metadata": {},
   "outputs": [
    {
     "data": {
      "text/plain": [
       "5"
      ]
     },
     "execution_count": 12,
     "metadata": {},
     "output_type": "execute_result"
    }
   ],
   "source": [
    "L = [1,2,3,4,5,6,7]\n",
    "L[-3]"
   ]
  },
  {
   "cell_type": "markdown",
   "metadata": {},
   "source": [
    "# <a id='toc4_'></a>[Перемножение последовательности матриц](#toc0_)\n",
    "Вход: последовательность n матриц A1..An, которые нужно перемножить.  \n",
    "Выход: порядок умножения, минимизирующий стоимость умножения.  \n",
    "(A*B != B*A, НО A*(B*C) == (A*B)*C)  \n",
    "Стоимость умножения pqr, или n**3 для квадратных. Хотя есть алгоритмы более быстрые, функцию стоимости тут берем так.  \n",
    "Скобки задают фактически двоичное дерево.  \n",
    "\tD[i,j] = мин. стоимость вычисления Ai×Ai+1×. . .×Aj  \n",
    "\tD[i,j] =min(i≤k<j){D[i,k] + D[k+1,j] + mi−1·mk·mj}  # рекурр. соотн. (минимум ст-ти внутри двух поддеревьев плюс ст-ти их перемножения)\n",
    "\n",
    "\n",
    "\tИнициализация  \n",
    "\t\tсоздать таблицу D[1..n,1..n]←[∞..∞]  \n",
    "\tФункция MatrixMultTD(i,j)\t\n",
    "\tесли D[i,j] = ∞:\t\n",
    "\t\tесли i=j: D[i,j]←0\t\n",
    "\t\tиначе:\t\n",
    "\t\t\tдля k от i до j−1:\t\n",
    "\t\t\t\tℓ←MatrixMultTD(i,k)\t\n",
    "\t\t\t\tr←MatrixMultTD(k+1,j)\t\n",
    "\t\t\t\tD[i,j]←min(D[i,j], ℓ+r+mi−1mkmj)\t\n",
    "\tвернуть D[i,j]\t\n",
    "\n",
    "Или итеративно (идем по диагоналям выше главной):\n",
    "\n",
    "\tФункция MatrixMultBU(m0,m1..mn)\t\n",
    "\tсоздать массив D[1..n,1..n]←[∞..∞]\t\n",
    "\tдля i от 1 до n:\t\n",
    "\t\tD[i,i]←0\t\n",
    "\tдля s от 1 до n−1:\t\n",
    "\t\tдля i от 1 до n−s:\t\n",
    "\t\t\tj←i+s\t\n",
    "\t\t\tдля k от i до j−1:\t\n",
    "\t\t\t\tD[i,j]←min(D[i,j],D[i,k] +D[k+1,j] +mi−1mkmj)\t\n",
    "\tвернуть D[1,n]\t\n",
    "\n"
   ]
  },
  {
   "cell_type": "markdown",
   "metadata": {},
   "source": [
    "# <a id='toc5_'></a>[Независимые множества в деревьях](#toc0_)\n",
    "Максимальное по весу независимое множество вдереве\t\n",
    "Вход:дерево в весами на вершинах.\t\n",
    "Выход:независимое множество (множество несоединённых друг с другом вершин) максимального суммарного веса.\t\n",
    "Если D\\[v]— максимальный вес независимого множества вподдереве с корнем вv, то рекуррентное соотношение:\t\n",
    "\tD\\[v] = max {w(v) + ∑︁по внукам D\\[w], ∑ по детям D\\[w]}\n",
    "\n",
    "\n",
    "\tФункция MaxIndSetTD(v)\t\n",
    "\tесли D[v] = ∞:\t\n",
    "\t\tесли у v нет детей:\t\n",
    "\t\t\tD[v] ← w(v)\t\n",
    "\t\tиначе:\t\n",
    "\t\t\tm1 ← w(v)\t\n",
    "\t\t\tдля всех детей u вершины v:\t\n",
    "\t\t\t\tдля всех детей w вершины u:\t\n",
    "\t\t\t\t\tm1 ← m1 + MaxIndSetTD(w)\t\n",
    "\t\t\tm0←0\t\n",
    "\t\t\tдля всех детей u вершины v:\t\n",
    "\t\t\t\tm0 ← m0 + MaxIndSetTD(u)\n",
    "\t\tD[v] ← max(m1, m0)\t\n",
    "\tвернуть D[v]\t\n",
    "\n",
    "Время работы O(|T|) "
   ]
  },
  {
   "cell_type": "markdown",
   "metadata": {},
   "source": [
    "# <a id='toc6_'></a>[Общие принципы](#toc0_)\n",
    "-> Проанализировать структуру оптимального решения,чтобы определить подзадачи и рекуррентное соотношение на них.\t\n",
    "-> Преобразовать рекуррентное соотношение врекурсивный алгоритм, обернув его мемоизацией и решая подзадачи сверху вниз, от больших к меньшим.\t\n",
    "-> Преобразовать рекурсивный алгоритм в итеративный, решая подзадачи снизу вверх, от меньших к большим.\t\n",
    "-> Доказать оценку на время работы и используемуюпамять.\t\n",
    "-> Восстановить оптимальное решение.\t\n",
    "-> Проанализировать структуры таблицы и рекурсивных вызовов, чтобы понять, нельзя ли сэкономить память.\t\n",
    "\n",
    "## Подзадачи: обзор\n",
    "1 Числа Фибоначии: D\\[i] =Fi.\t\n",
    "2 Наибольшая возрастающая подпоследовательность: D\\[i]— длина НВП, заканчивающейся в A\\[i].\t\n",
    "3 Расстояние редактирование: D\\[i,j] — расстояние между A\\[1..i] и B\\[1..j].\t\n",
    "4 Рюкзак: D\\[w]— оптимальная стоимость заполнения рюкзака вместимости w.\t\t\n",
    "5 Перемножение последовательности матриц: D\\[i,j]—стоимость вычисления Ai×··×Aj.\t\t\n",
    "6 Независимые множества в деревьях: D\\[v] — максимальный вес независимого множества в поддереве с корнем в v.\t\n",
    "\n"
   ]
  },
  {
   "cell_type": "markdown",
   "metadata": {},
   "source": [
    "### Теоретическая задача для самостоятельной проверки: сдача минимальным числом монет\n",
    "Приведите алгоритм, который по данному натуральному числу n и набору натуральных чисел C={c1=1,c2,…,ck} находит минимальное число p, такое что n можно представить как сумму p чисел из набора C, за время O(kn) (числа в представлении могут повторяться; хотя бы одно представление всегда есть, поскольку c1=1)."
   ]
  },
  {
   "cell_type": "code",
   "execution_count": 13,
   "metadata": {},
   "outputs": [
    {
     "data": {
      "text/plain": [
       "(2, [8, 2, 4])"
      ]
     },
     "execution_count": 13,
     "metadata": {},
     "output_type": "execute_result"
    }
   ],
   "source": [
    "C = [1, 4, 5]\n",
    "N = 8\n",
    "\n",
    "\n",
    "def coinsBU(n, Ck):\n",
    "    \n",
    "    p = float('inf')\n",
    "    D = [0] * len(Ck)\n",
    "    for k in range(len(Ck)):\n",
    "        D[k] = n // C[k]\n",
    "        reminder = n % Ck[k]\n",
    "        \n",
    "        i = k\n",
    "        while reminder > 0:\n",
    "            D[k] += reminder // Ck[i]\n",
    "            reminder = reminder % Ck[i]\n",
    "            i -= 1 \n",
    "            \n",
    "        if D[k] < p:\n",
    "            p = D[k]\n",
    "\n",
    "    return p, D\n",
    "\n",
    "\n",
    "coinsBU(N, C)\n"
   ]
  },
  {
   "cell_type": "markdown",
   "metadata": {},
   "source": [
    "## Задача на программирование: лестница\n",
    "Даны число 1≤n≤10^2 ступенек лестницы и целые числа -10^4 ≤a1..an​≤10^4, которыми помечены ступеньки. Найдите максимальную сумму, которую можно получить, идя по лестнице снизу вверх (от нулевой до n-й ступеньки), каждый раз поднимаясь на одну или две ступеньки."
   ]
  },
  {
   "cell_type": "code",
   "execution_count": 14,
   "metadata": {},
   "outputs": [],
   "source": [
    "INPUTS = \"\"\"3\n",
    "-1 2 1\"\"\"\n",
    "\n",
    "INPUTS = \"\"\"5\n",
    "-2 -16 -13 -9 -48\"\"\"    # -63"
   ]
  },
  {
   "cell_type": "code",
   "execution_count": 15,
   "metadata": {},
   "outputs": [
    {
     "name": "stdout",
     "output_type": "stream",
     "text": [
      "-63\n",
      "-63\n"
     ]
    }
   ],
   "source": [
    "n = int(INPUTS.split('\\n')[0])\n",
    "A = list(map(int, INPUTS.split('\\n')[1].split()))\n",
    "\n",
    "\n",
    "def stairBU(n, A):\n",
    "    s1 = 0\n",
    "    s2 = A[0]\n",
    "    for i in range(1, n):\n",
    "        s2, s1 = max(A[i] + s1, A[i] + s2), s2\n",
    "    return s2\n",
    "\n",
    "\n",
    "def stairTD(n, A):\n",
    "    return 0 if n == -1 else \\\n",
    "               A[0] if n == 0 else \\\n",
    "                   max(A[n] + stairTD(n-1, A), A[n] + stairTD(n-2, A))\n",
    "\n",
    "  \n",
    "print(stairBU(n, A))\n",
    "print(stairTD(n-1, A))"
   ]
  },
  {
   "cell_type": "markdown",
   "metadata": {},
   "source": [
    "## Задача на программирование: калькулятор\n",
    "У вас есть примитивный калькулятор, который умеет выполнять всего три операции с текущим числом x: заменить x на 2x, 3x или x+1. По данному целому числу 1≤n≤10^5 определите минимальное число операций k, необходимое, чтобы получить n из 1. Выведите k и последовательность промежуточных чисел.\n"
   ]
  },
  {
   "cell_type": "code",
   "execution_count": 16,
   "metadata": {},
   "outputs": [],
   "source": [
    "INPUTS = '96234'        #14"
   ]
  },
  {
   "cell_type": "code",
   "execution_count": 17,
   "metadata": {
    "collapsed": true
   },
   "outputs": [
    {
     "data": {
      "text/plain": [
       "(17, 7, 7, 7)"
      ]
     },
     "execution_count": 17,
     "metadata": {},
     "output_type": "execute_result"
    }
   ],
   "source": [
    "from functools import lru_cache\n",
    "\n",
    "n = int(INPUTS)\n",
    "D = {}\n",
    "\n",
    "\n",
    "def calcTD(n, reminder=0):\n",
    "    # кешируем словарем, очень долго\n",
    "    global D\n",
    "    if reminder == 0:\n",
    "        if n == 1:\n",
    "            return 0\n",
    "        else:\n",
    "            n3 = calcTD(n // 3, n % 3)\n",
    "            n2 = calcTD(n // 2, n % 2)\n",
    "            n1 = calcTD(n - 1, 0)\n",
    "            \n",
    "            return D.setdefault(n, 1 + min(n3, n2, n1))\n",
    "    else:\n",
    "        return float('inf')\n",
    "\n",
    "\n",
    "def calcLRU(n, reminder=0):\n",
    "    \n",
    "    @lru_cache(maxsize=None)\n",
    "    def calc(n, reminder=0):\n",
    "        # чето ниразу не лучше кэша \n",
    "        if reminder == 0:\n",
    "            if n == 1:\n",
    "                return 0\n",
    "            else:\n",
    "                n3 = calcTD(n // 3, n % 3)\n",
    "                n2 = calcTD(n // 2, n % 2)\n",
    "                n1 = calcTD(n - 1, 0)\n",
    "                \n",
    "                return 1 + min(n3, n2, n1)\n",
    "        else:\n",
    "            return float('inf')\n",
    "    return calc(n, reminder=0)\n",
    "\n",
    "\n",
    "def calcBU(n):\n",
    "\n",
    "    K = list(range(n+1))\n",
    "    P = [0] * (n + 1)\n",
    "    \n",
    "    found = False\n",
    "    \n",
    "    k = 0\n",
    "    P[1] = 0\n",
    "    K[1] = 0\n",
    "    while not found and n > 1:\n",
    "        i = 1\n",
    "\n",
    "        while i <= n:\n",
    "            if K[i] == k:\n",
    "                if i+1 <= n:\n",
    "                    if k < K[i+1]:\n",
    "                        K[i+1] = k + 1\n",
    "                        P[i+1] = i\n",
    "                        found = True if (i+1 == n) else found\n",
    "                if 2*i <= n:\n",
    "                    if k < K[2*i]:\n",
    "                        K[2*i] = k + 1\n",
    "                        P[2*i] = i\n",
    "                        found = True if (2*i == n) else found\n",
    "                if 3*i <= n:\n",
    "                    if k < K[3*i]:\n",
    "                        K[3*i] = k + 1 \n",
    "                        P[3*i] = i\n",
    "                        found = True if (3*i == n) else found\n",
    "            i = i + 1\n",
    "\n",
    "        k = k + 1\n",
    "    \n",
    "    return(K[-1])\n",
    "    \n",
    "    L = [n]\n",
    "    p = P[-1] \n",
    "    while p > 0:\n",
    "        L.append(p)\n",
    "        p = P[p]\n",
    "        \n",
    "    list(map(lambda x: print(x, end=' '), list(reversed(L))))\n",
    "\n",
    "\n",
    "n = 100\n",
    "\n",
    "calcBU(94234), calcBU(n), calcTD(n), calcLRU(n)"
   ]
  },
  {
   "cell_type": "code",
   "execution_count": 18,
   "metadata": {},
   "outputs": [
    {
     "name": "stdout",
     "output_type": "stream",
     "text": [
      "calcBU 36703\n",
      "calcLRU 1523397\n",
      "calcTD 1511056\n"
     ]
    },
    {
     "data": {
      "image/png": "[encoded data removed]",
      "text/plain": [
       "<Figure size 432x288 with 1 Axes>"
      ]
     },
     "metadata": {
      "needs_background": "light"
     },
     "output_type": "display_data"
    }
   ],
   "source": [
    "n = 50\n",
    "funcs = [calcBU, calcLRU, calcTD]\n",
    "\n",
    "for func in funcs:\n",
    "    t = timeit(func, n, n_iter=1)\n",
    "    print(func.__name__, t)\n",
    "    plt.bar(func.__name__, t)\n",
    "plt.grid(True)\n",
    "plt.show()"
   ]
  },
  {
   "cell_type": "markdown",
   "metadata": {},
   "source": [
    "## Теоретическая задача для самостоятельной проверки: 3-разбиение\n",
    "\n",
    "Мы хотим разбить данные n натуральных чисел a1,…,an на три части с равной суммой. Например, числа (1,2,3,4,4,5,8) так разбить можно: (1,8), (4,5), (2,3,4), а числа (2,2,3,5) — нет. Приведите алгоритм со временем работы O(nS^2), где S=∑ai.\n",
    "\n",
    "Решение примерно: если S не делится на 3 - выход, иначе: динамическое программирование - набирать по принципу задачи о рюкзаке?.. Когда-нибуть можно подумать...\n"
   ]
  },
  {
   "cell_type": "code",
   "execution_count": 19,
   "metadata": {},
   "outputs": [],
   "source": [
    "import random\n",
    "\n",
    "n = 10\n",
    "\n",
    "def getS(n):\n",
    "    S = [random.randint(1, n) for _ in range(n)]\n",
    "    x3 = 3 - sum(S) % 3 \n",
    "    if  x3 != 0:\n",
    "        S.append(x3)\n",
    "    S.sort()\n",
    "    return S\n",
    "    \n",
    "getS(n)\n",
    "\n",
    "def trisect(A):\n",
    "    if sum(A) % 3 > 0:\n",
    "        return None\n",
    "    else:\n",
    "        \n",
    "        ...\n",
    "    \n",
    "trisect(getS(n))"
   ]
  },
  {
   "cell_type": "markdown",
   "metadata": {},
   "source": [
    "# <a id='toc7_'></a>[+ Практика: Расстояние редактирования](#toc0_)"
   ]
  },
  {
   "cell_type": "code",
   "execution_count": 20,
   "metadata": {},
   "outputs": [],
   "source": [
    "# вариант профессионала \n",
    "import random\n",
    "from functools import lru_cache\n",
    "\n",
    "A = 'short'\n",
    "B = 'ports'\n",
    "\n",
    "\n",
    "def edit_distanceTD(s1, s2):\n",
    "    \n",
    "    @lru_cache(maxsize=None)    # мемоизатор\n",
    "    def d(i, j):\n",
    "        if i == 0 or j == 0:\n",
    "            return max(i, j)\n",
    "        else:\n",
    "            return min(d(i, j - 1) + 1,\n",
    "                       d(i - 1, j) + 1,\n",
    "                       d(i - 1, j - 1) + (s1[i - 1] != s2[j - 1]))\n",
    "        \n",
    "    return d(len(s1), len(s2))\n",
    "\n",
    "\n",
    "def edit_distanceBU(s1, s2):\n",
    "    m, n = len(s1), len(s2)\n",
    "    if m < n: \n",
    "        # тогда будет O(min(n, m)) для curr\n",
    "        return edit_distanceBU(s2, s1)\n",
    "    \n",
    "    prev = list(range(n + 1))\n",
    "    \n",
    "    for i, ch1 in enumerate(s1, 1): # номера с 1\n",
    "        # уйти от ручных индексов -> удобно, наглядно\n",
    "        curr = [i]\n",
    "        for j, ch2 in enumerate(s2, 1):\n",
    "            curr.append(min(curr[-1] + 1,\n",
    "                            prev[j] + 1, \n",
    "                            prev[j - 1] + (ch1 != ch2)))\n",
    "        prev = curr\n",
    "            \n",
    "    return prev[n]\n",
    "\n",
    "\n",
    "def main():\n",
    "    s1= A\n",
    "    s2 = B\n",
    "    print(edit_distanceBU(s1, s2))\n",
    "    \n",
    "\n",
    "def test(n_iter=100):\n",
    "    for i in range(n_iter):\n",
    "        length = random.randint(0, 64)      # 1000 -> sys.setrecursionlimit(10000) -> минута времени  \n",
    "                                            # -> рекурсия даже с кэшем не вариант для больших размеров\n",
    "        s = \"\".join(random.choice(\"01\") for _ in range(length))\n",
    "        \n",
    "        assert edit_distanceBU(s, '') == edit_distanceBU('', s) == len(s)\n",
    "        assert edit_distanceBU(s, s) == 0\n",
    "    \n",
    "    assert edit_distanceBU(\"ab\", \"ab\") == 0\n",
    "    assert edit_distanceBU(\"short\", \"ports\") == 3\n",
    "\n",
    "\n",
    "test()"
   ]
  },
  {
   "cell_type": "code",
   "execution_count": null,
   "metadata": {},
   "outputs": [],
   "source": []
  }
 ],
 "metadata": {
  "interpreter": {
   "hash": "4a0ad87e8b5d33768bd025306b84ef7a0f3cfeaa852ee58d9b819e0e4cbb3e53"
  },
  "kernelspec": {
   "display_name": "Python 3.8.10 64-bit ('py38': venv)",
   "name": "python3"
  },
  "language_info": {
   "codemirror_mode": {
    "name": "ipython",
    "version": 3
   },
   "file_extension": ".py",
   "mimetype": "text/x-python",
   "name": "python",
   "nbconvert_exporter": "python",
   "pygments_lexer": "ipython3",
   "version": "3.8.10"
  },
  "metadata": {
   "interpreter": {
    "hash": "4a0ad87e8b5d33768bd025306b84ef7a0f3cfeaa852ee58d9b819e0e4cbb3e53"
   }
  }
 },
 "nbformat": 4,
 "nbformat_minor": 2
}
