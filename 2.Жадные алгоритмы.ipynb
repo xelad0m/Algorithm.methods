{
 "cells": [
  {
   "cell_type": "markdown",
   "metadata": {},
   "source": [
    "<!-- vscode-jupyter-toc -->\n",
    "<!-- THIS CELL WILL BE REPLACED ON TOC UPDATE. DO NOT WRITE YOUR TEXT IN THIS CELL -->\n",
    "<a id='toc0_'></a>**Содержание**    \n",
    "- [Жадные алгоритмы: введение](#toc1_)    \n",
    "  - [Основные идеи](#toc1_1_)    \n",
    "  - [Задача на программирование: покрыть отрезки точками](#toc1_2_)    \n",
    "  - [Задача на программирование: непрерывный рюкзак](#toc1_3_)    \n",
    "  - [Задача на программирование: различные слагаемые](#toc1_4_)    \n",
    "  - [Теоретическая задача для самостоятельной проверки: сдача минимальным количеством монет](#toc1_5_)    \n",
    "- [Код Хаффмана](#toc2_)    \n",
    "  - [Задача на программирование: кодирование Хаффмана](#toc2_1_)    \n",
    "- [Декодирование](#toc3_)    \n",
    "  - [Теоретическая задача для самостоятельной проверки: свойство кода Хаффмана](#toc3_1_)    \n",
    "\n",
    "<!-- vscode-jupyter-toc-config\n",
    "\tnumbering=false\n",
    "\tanchor=true\n",
    "\tminLevel=1\n",
    "\tmaxLevel=6\n",
    "\t/vscode-jupyter-toc-config -->\n",
    "<!-- /vscode-jupyter-toc -->"
   ]
  },
  {
   "cell_type": "markdown",
   "metadata": {},
   "source": [
    "# <a id='toc1_'></a>[Жадные алгоритмы: введение](#toc0_)\n",
    "основные задачи:  \n",
    "1.Покрытие набора точек на прямой минимальным количеством отрезков фиксированной длины  \n",
    "2.Задача о выборе заявок - максимальное количество попарно непересекающихся отрезков на прямой  \n",
    "3.Планирование вечеринки в компании - независимое множество (множество несоединённых друг с другом вершин)максимального размера  \n",
    "4.Непрерывный рюкзак - максимальная стоимость частей предметовсуммарного веса не более заданного  \n",
    "\n",
    "## <a id='toc1_1_'></a>[Основные идеи](#toc0_)\n",
    "Надёжный шаг. Существует оптимальное решение,согласованное с локальным жадным шагом.  \n",
    "Оптимальность подзадач. Задача, остающаяся послежадного шага, имеет тот же тип.\n",
    "\n",
    "Суть жадности по видимому в том, что в результате \"надежного шага\" из условий в оптимальное решение перекладывается одно из условий и при этом задача не меняется по сути. Алгоритм работает до исключения всех условий."
   ]
  },
  {
   "cell_type": "markdown",
   "metadata": {},
   "source": [
    "## <a id='toc1_2_'></a>[Задача на программирование: покрыть отрезки точками](#toc0_)\n",
    "\n",
    "\n",
    "По данным n отрезкам необходимо найти множество точек минимального размера, для которого каждый из отрезков содержит хотя бы одну из точек.\n",
    "\n",
    "В первой строке дано число 1≤n≤100 отрезков. Каждая из последующих n строк содержит по два числа 0≤l≤r≤10^9, задающих начало и конец отрезка. Выведите оптимальное число m точек и сами m точек. Если таких множеств точек несколько, выведите любое из них."
   ]
  },
  {
   "cell_type": "code",
   "execution_count": 1,
   "metadata": {},
   "outputs": [],
   "source": [
    "class inputer():\n",
    "    def __init__(self):\n",
    "        self._ptr = 0\n",
    "    def __call__(self):\n",
    "        self._ptr += 1\n",
    "        try:\n",
    "            return INPUTS.splitlines()[self._ptr-1]\n",
    "        except IndexError:\n",
    "            self._ptr = 1\n",
    "            return INPUTS.splitlines()[self._ptr-1]\n",
    "        \n",
    "input = inputer()"
   ]
  },
  {
   "cell_type": "code",
   "execution_count": 2,
   "metadata": {},
   "outputs": [],
   "source": [
    "INPUTS = \"\"\"4\n",
    "4 7\n",
    "1 3\n",
    "2 5\n",
    "5 6\"\"\""
   ]
  },
  {
   "cell_type": "code",
   "execution_count": 3,
   "metadata": {},
   "outputs": [],
   "source": [
    "segments = []\n",
    "n = int(input())\n",
    "for i in range(n):\n",
    "    l, r = map(int, input().split())\n",
    "    segments.append([l, r])"
   ]
  },
  {
   "cell_type": "code",
   "execution_count": 4,
   "metadata": {},
   "outputs": [
    {
     "data": {
      "text/plain": [
       "(4, [[4, 7], [1, 3], [2, 5], [5, 6]])"
      ]
     },
     "execution_count": 4,
     "metadata": {},
     "output_type": "execute_result"
    }
   ],
   "source": [
    "n, segments"
   ]
  },
  {
   "cell_type": "code",
   "execution_count": 5,
   "metadata": {},
   "outputs": [
    {
     "data": {
      "text/plain": [
       "[[1, 3], [2, 5], [5, 6], [4, 7]]"
      ]
     },
     "execution_count": 5,
     "metadata": {},
     "output_type": "execute_result"
    }
   ],
   "source": [
    "# (1) упорядочить по правым границам, (2) брать правые точки, (3) пропускать отрезки, куда последняя взятая точка уже входит\n",
    "\n",
    "segments.sort(key=lambda x: x[1])\n",
    "segments"
   ]
  },
  {
   "cell_type": "code",
   "execution_count": 6,
   "metadata": {},
   "outputs": [
    {
     "name": "stdout",
     "output_type": "stream",
     "text": [
      "2\n",
      "3 6 "
     ]
    }
   ],
   "source": [
    "M = []\n",
    "M.append(segments[0][1])\n",
    "for s in segments[1:]:\n",
    "    if s[0] > M[-1]:\n",
    "        M.append(s[1])\n",
    "\n",
    "print(len(M))      \n",
    "for m in M:\n",
    "    print(m, end=' ')"
   ]
  },
  {
   "cell_type": "markdown",
   "metadata": {},
   "source": [
    "## <a id='toc1_3_'></a>[Задача на программирование: непрерывный рюкзак](#toc0_)\n",
    "\n",
    "\n",
    "Первая строка содержит количество предметов 1≤n≤10^3  и вместимость рюкзака 0≤W≤2*10^6 . Каждая из следующих n строк задаёт стоимость 0≤ci≤2*10^6 и объём 0<wi≤2⋅10^6 предмета (n, W, ci​, wi​ — целые числа). Выведите максимальную стоимость частей предметов (от каждого предмета можно отделить любую часть, стоимость и объём при этом пропорционально уменьшатся), помещающихся в данный рюкзак, с точностью не менее трёх знаков после запятой."
   ]
  },
  {
   "cell_type": "code",
   "execution_count": 7,
   "metadata": {},
   "outputs": [],
   "source": [
    "INPUTS = \"\"\"3 50\n",
    "60 20\n",
    "100 50\n",
    "120 30\"\"\""
   ]
  },
  {
   "cell_type": "code",
   "execution_count": 8,
   "metadata": {},
   "outputs": [
    {
     "data": {
      "text/plain": [
       "(3, 50, [[60, 20], [100, 50], [120, 30]])"
      ]
     },
     "execution_count": 8,
     "metadata": {},
     "output_type": "execute_result"
    }
   ],
   "source": [
    "things = []\n",
    "n, W = map(int, input().split())\n",
    "for i in range(n):\n",
    "    costs, weights = map(int, input().split())\n",
    "    things.append([costs, weights])\n",
    "\n",
    "n, W, things"
   ]
  },
  {
   "cell_type": "code",
   "execution_count": 9,
   "metadata": {},
   "outputs": [
    {
     "data": {
      "text/plain": [
       "[[120, 30], [60, 20], [100, 50]]"
      ]
     },
     "execution_count": 9,
     "metadata": {},
     "output_type": "execute_result"
    }
   ],
   "source": [
    "# (1) упорядочить по убыванию удельной стоимости, (2) брать максимальное количество самого дорогого, (3) заполнять до исчерпания объема\n",
    "things.sort(key=lambda x: x[0] / x[1], reverse=True)  # стоимость / объем\n",
    "things\n"
   ]
  },
  {
   "cell_type": "code",
   "execution_count": 10,
   "metadata": {},
   "outputs": [
    {
     "name": "stdout",
     "output_type": "stream",
     "text": [
      "180.000\n"
     ]
    }
   ],
   "source": [
    "curr_cost, curr_weight = 0, 0\n",
    "for t in things:\n",
    "    if curr_weight <= W:\n",
    "        put_weight = min(W - curr_weight, t[1])\n",
    "        curr_cost += put_weight * ( t[0] / t[1] ) \n",
    "        curr_weight += put_weight\n",
    "    else:\n",
    "        break\n",
    "\n",
    "print('{:.3f}'.format(curr_cost))"
   ]
  },
  {
   "cell_type": "markdown",
   "metadata": {},
   "source": [
    "## <a id='toc1_4_'></a>[Задача на программирование: различные слагаемые](#toc0_)\n",
    "\n",
    "По данному числу 1≤n≤10^9 найдите максимальное число k, для которого n можно представить как сумму k различных натуральных слагаемых. Выведите в первой строке число k, во второй — k слагаемых."
   ]
  },
  {
   "cell_type": "code",
   "execution_count": 11,
   "metadata": {},
   "outputs": [],
   "source": [
    "INPUTS = \"\"\"6\"\"\""
   ]
  },
  {
   "cell_type": "code",
   "execution_count": 12,
   "metadata": {},
   "outputs": [
    {
     "name": "stdout",
     "output_type": "stream",
     "text": [
      "3\n",
      "1 2 3\n"
     ]
    }
   ],
   "source": [
    "n = int(input())\n",
    "max_i, prev_S, curr_S = 0, 0, 0\n",
    "\n",
    "i = 0\n",
    "while curr_S <= n:\n",
    "    i += 1\n",
    "    curr_S, prev_S = curr_S + i, curr_S \n",
    "    \n",
    "max_i = i - 1 \n",
    "print(max_i)\n",
    "for i in range(max_i-1):\n",
    "    print(i+1, end=' ')\n",
    "print(n - prev_S + max_i)"
   ]
  },
  {
   "cell_type": "code",
   "execution_count": 13,
   "metadata": {},
   "outputs": [],
   "source": [
    "def max_summand(n):\n",
    "    i, prev_S, curr_S = 0, 0, 0\n",
    "    \n",
    "    while curr_S <= n:\n",
    "        i += 1\n",
    "        curr_S, prev_S = curr_S + i, curr_S \n",
    "        \n",
    "    return i - 1 "
   ]
  },
  {
   "cell_type": "code",
   "execution_count": 14,
   "metadata": {},
   "outputs": [
    {
     "data": {
      "image/png": "[encoded data removed]",
      "text/plain": [
       "<Figure size 432x288 with 1 Axes>"
      ]
     },
     "metadata": {
      "needs_background": "light"
     },
     "output_type": "display_data"
    }
   ],
   "source": [
    "from matplotlib import pyplot as plt\n",
    "import time\n",
    "\n",
    "def timed(f, *args, n_iter=100):\n",
    "    acc = float('inf')\n",
    "    for i in range(n_iter):\n",
    "        t0 = time.perf_counter_ns()\n",
    "        f(*args)\n",
    "        t1 = time.perf_counter_ns()\n",
    "        acc = min(acc, t1 - t0)\n",
    "    return acc\n",
    "\n",
    "xs = list(range(1000))\n",
    "plt.plot(xs, [timed(max_summand, x, n_iter=10) for x in xs])\n",
    "plt.grid(True)\n",
    "plt.show()\n"
   ]
  },
  {
   "cell_type": "markdown",
   "metadata": {},
   "source": [
    "## <a id='toc1_5_'></a>[Теоретическая задача для самостоятельной проверки: сдача минимальным количеством монет](#toc0_)\n",
    "\n",
    "Постройте жадный алгоритм, который получает на вход натуральное число n и за время O(n) находит минимальное число монет номиналом 1 копейка, 5 копеек, 10 копеек и 25 копеек, с помощью которых можно выдать сдачу в n копеек. (Как всегда, нужно описать алгоритм, доказать его корректность и оценку на время работы. Приводить псевдокод нужно только в том случае, если вам кажется, что он поможет читателю лучше понять ваш алгоритм.)\n",
    "\n",
    "Приведите пример номиналов монет, для которых жадный алгоритм построит неоптимальное решение. В множество номиналов должна входить монета номиналом 1 копейка, чтобы любую сумму n можно было разменять этими монетами.\n"
   ]
  },
  {
   "cell_type": "code",
   "execution_count": 15,
   "metadata": {},
   "outputs": [],
   "source": [
    "# упорядочить номиналы по убыванию, целочисленное деление, остаток делится на следующий номинал"
   ]
  },
  {
   "cell_type": "markdown",
   "metadata": {},
   "source": [
    "# <a id='toc2_'></a>[Код Хаффмана](#toc0_)\n",
    "\n",
    "Сообщение кодируется в зависимости от частоты символов - более частые кодируются коротким кодом, в результате все неплохо сжимается.\n",
    "Тоже разновидность жадного алгоритма, выкидываются самые частые, процедура повторяется.\n",
    "## <a id='toc2_1_'></a>[Задача на программирование: кодирование Хаффмана](#toc0_)\n",
    "\n",
    "По данной непустой строке s длины не более 10^4, состоящей из строчных букв латинского алфавита, постройте оптимальный беспрефиксный код. В первой строке выведите количество различных букв k, встречающихся в строке, и размер получившейся закодированной строки. В следующих k строках запишите коды букв в формате \"letter: code\". В последней строке выведите закодированную строку."
   ]
  },
  {
   "cell_type": "code",
   "execution_count": 16,
   "metadata": {},
   "outputs": [],
   "source": [
    "INPUTS = \"abacabad\""
   ]
  },
  {
   "cell_type": "code",
   "execution_count": 17,
   "metadata": {
    "collapsed": false
   },
   "outputs": [
    {
     "name": "stdout",
     "output_type": "stream",
     "text": [
      "2 2\n",
      "4: 1\n",
      "7: 0\n",
      "10\n"
     ]
    },
    {
     "data": {
      "text/plain": [
       "'10101010010011100110'"
      ]
     },
     "execution_count": 17,
     "metadata": {},
     "output_type": "execute_result"
    }
   ],
   "source": [
    "class Huffman():\n",
    "    \"\"\"итеративный наивный вариант\"\"\"\n",
    "    def __init__(self, msg=''):\n",
    "        self.freqs = {}\n",
    "        self.codes = {}\n",
    "        self.tree = {}\n",
    "        self.msg = msg\n",
    "        self.coded = ''\n",
    "    \n",
    "    def encode(self, msg):\n",
    "        self.__init__(msg)\n",
    "        self._get_freqs()\n",
    "        self._make_tree()\n",
    "        self._make_codes()\n",
    "        \n",
    "        for i in range(len(msg)):\n",
    "            self.coded += self.codes[msg[i]]\n",
    "        return self.coded\n",
    "    \n",
    "    def report(self):\n",
    "        print(len(self.codes), len(self.coded))\n",
    "        for k, v in sorted(self.codes.items(), key=lambda item: item[1], reverse=True):\n",
    "            print(\"{}: {}\".format(k, v))\n",
    "        print(self.coded)\n",
    "\n",
    "    def _get_freqs(self):\n",
    "        for i in range(len(self.msg)):\n",
    "            if self.freqs.get(self.msg[i], 0):\n",
    "                self.freqs[self.msg[i]] += 1\n",
    "            else:\n",
    "                self.freqs[self.msg[i]] = 1\n",
    "        self._S = sorted(self.freqs.items(), key=lambda item: item[1], reverse=True)\n",
    "    \n",
    "    def _make_tree(self):\n",
    "        def new_id(i):\n",
    "            while True:\n",
    "                i += 1\n",
    "                yield i\n",
    "        \n",
    "        ni = new_id(100)\n",
    "        \n",
    "        while self._S:\n",
    "            left = self._S.pop()\n",
    "            if not self._S:  # если один узел\n",
    "                self.tree[left[0]] = (-1, '0')\n",
    "                break\n",
    "            right = self._S.pop()\n",
    "            w = left[1] + right[1]\n",
    "            if not self._S:  # последний корневой узел\n",
    "                new_node = (next(ni), w)\n",
    "                self.tree[left[0]] = (new_node[0], '0')\n",
    "                self.tree[right[0]] = (new_node[0], '1')\n",
    "                break\n",
    "                \n",
    "            new_node = (next(ni), w)\n",
    "            self.tree[left[0]] = (new_node[0], '0')\n",
    "            self.tree[right[0]] = (new_node[0], '1')\n",
    "            \n",
    "            lenS = len(self._S)\n",
    "            for i in range(lenS):\n",
    "                if self._S[i][1] < w or i == lenS - 1:\n",
    "                    pos = i if i != lenS - 1 else i + 1 \n",
    "                    self._S.insert(pos, new_node)\n",
    "                    break\n",
    "            lenS = len(self._S)\n",
    "        \n",
    "    def _make_codes(self):\n",
    "        def code(k):\n",
    "            c = ''\n",
    "            while self.tree.get(k, False):\n",
    "                c = self.tree[k][1] + c\n",
    "                k = self.tree[k][0]\n",
    "            return c\n",
    "        for k in self.freqs.keys():\n",
    "            self.codes[k] = code(k)\n",
    "\n",
    "h = Huffman()\n",
    "h.encode(s)\n",
    "h.report()\n",
    "\n",
    "h.encode('accepted')"
   ]
  },
  {
   "cell_type": "code",
   "execution_count": 18,
   "metadata": {},
   "outputs": [
    {
     "data": {
      "image/png": "[encoded data removed]",
      "text/plain": [
       "<Figure size 432x288 with 1 Axes>"
      ]
     },
     "metadata": {
      "needs_background": "light"
     },
     "output_type": "display_data"
    }
   ],
   "source": [
    "# график похож на n*log(n)\n",
    "from matplotlib import pyplot as plt\n",
    "import time, random, string\n",
    "\n",
    "def timed(f, *args, n_iter=100):\n",
    "    acc = float('inf')\n",
    "    for i in range(n_iter):\n",
    "        t0 = time.perf_counter_ns()\n",
    "        f(*args)\n",
    "        t1 = time.perf_counter_ns()\n",
    "        acc = min(acc, t1 - t0)\n",
    "    return acc\n",
    "\n",
    "\n",
    "N = 5000\n",
    "sample = lambda x: ''.join(random.choice(string.ascii_letters + string.digits + ' ') for _ in range(x))\n",
    "args = [sample(x) for x in range(N)]    # аргументы\n",
    "xs = list(range(N))                     # подписи\n",
    "plt.plot(xs, [timed(h.encode, x, n_iter=1) for x in args])\n",
    "plt.grid(True)\n",
    "plt.show()"
   ]
  },
  {
   "cell_type": "markdown",
   "metadata": {},
   "source": [
    "# <a id='toc3_'></a>[Декодирование](#toc0_)"
   ]
  },
  {
   "cell_type": "code",
   "execution_count": 19,
   "metadata": {},
   "outputs": [],
   "source": [
    "INPUTS = \"\"\"4 14\n",
    "a: 0\n",
    "b: 10\n",
    "c: 110\n",
    "d: 111\n",
    "01001100100111\"\"\""
   ]
  },
  {
   "cell_type": "code",
   "execution_count": 20,
   "metadata": {},
   "outputs": [
    {
     "name": "stdout",
     "output_type": "stream",
     "text": [
      "abacabad\n"
     ]
    }
   ],
   "source": [
    "input.__init__()\n",
    "n, m = map(int, input().split())\n",
    "codes = {}\n",
    "for i in range(n):\n",
    "    s, c = input().split(': ')\n",
    "    codes[c] = s\n",
    "coded = input()\n",
    "\n",
    "chunk = ''\n",
    "msg = ''\n",
    "for i in range(m):\n",
    "    chunk += coded[i]\n",
    "    letter = codes.get(chunk, False)\n",
    "    if letter:\n",
    "        msg += letter\n",
    "        chunk = ''\n",
    "\n",
    "print(msg)"
   ]
  },
  {
   "cell_type": "markdown",
   "metadata": {},
   "source": [
    "## <a id='toc3_1_'></a>[Теоретическая задача для самостоятельной проверки: свойство кода Хаффмана](#toc0_)\n",
    "\n",
    "\n",
    "Докажите, что если частоты всех символов меньше 1/3 (другими словами, каждый символ в исходную строку s входит строго меньше ∣s∣/3 раз), то коды всех символов в коде Хаффмана будут длиннее одного бита.\n",
    "\n",
    "\n",
    "...рассматривается последний шаг - код длины один получается только, если это \"тупиковый\" потомок корня. Символов должно быть больше трех. Его частота должна быть больше, чем частоты двух других ветвей, объединных на предыдущем шаге, это значит, что его частота должна быть больше 1/3 читд\n",
    "\n"
   ]
  },
  {
   "cell_type": "code",
   "execution_count": null,
   "metadata": {},
   "outputs": [],
   "source": []
  }
 ],
 "metadata": {
  "interpreter": {
   "hash": "4a0ad87e8b5d33768bd025306b84ef7a0f3cfeaa852ee58d9b819e0e4cbb3e53"
  },
  "kernelspec": {
   "display_name": "Python 3.8.10 64-bit ('py38': venv)",
   "name": "python3"
  },
  "language_info": {
   "codemirror_mode": {
    "name": "ipython",
    "version": 2
   },
   "file_extension": ".py",
   "mimetype": "text/x-python",
   "name": "python",
   "nbconvert_exporter": "python",
   "pygments_lexer": "ipython2",
   "version": "3.8.10"
  },
  "metadata": {
   "interpreter": {
    "hash": "4a0ad87e8b5d33768bd025306b84ef7a0f3cfeaa852ee58d9b819e0e4cbb3e53"
   }
  }
 },
 "nbformat": 4,
 "nbformat_minor": 0
}
