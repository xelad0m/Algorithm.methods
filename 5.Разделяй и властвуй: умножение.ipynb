{
 "cells": [
  {
   "cell_type": "markdown",
   "metadata": {},
   "source": [
    "## Умножение и сложение двоичных чисел\n",
    "используется следующее представление числа: y = 2 * (y//2), если y четное, иначе y = 1 + 2 * (y//2). Тогда x*y = 2 * (x * (y//2)) (+1 если нечетное).\n",
    "таже используется тот факт, что //2 это сдвиг на 1 бит вправо (1011 = 11(дес.) // 2 = 101 = 5(дес.))"
   ]
  },
  {
   "cell_type": "code",
   "execution_count": 1,
   "metadata": {},
   "outputs": [
    {
     "data": {
      "text/plain": [
       "20"
      ]
     },
     "execution_count": 1,
     "metadata": {},
     "output_type": "execute_result"
    }
   ],
   "source": [
    "def multipy(x, y):      # O(n^2)\n",
    "    assert x >= 0\n",
    "    assert y >= 0\n",
    "    if y == 0:\n",
    "        return 0\n",
    "    z = multipy(x, y // 2)\n",
    "    if y % 2 == 0:\n",
    "        return 2 * z\n",
    "    else:\n",
    "        return x + 2 * z\n",
    "\n",
    "multipy(10, 2)"
   ]
  },
  {
   "cell_type": "markdown",
   "metadata": {},
   "source": [
    "уменьшение размерности задачи \n",
    "\n",
    "представление сомножителей в виде суммы половин их записей старших и младших битов: x = xl + xr = 2^(n/2)*xl + xr\n",
    "тогда x*y = (2^(n/2)*xl + xr) * (2^(n/2)*yl + yr) = 2^(n)*xl*yl + 2^(n/2)*(xlyr+xr*yl) + xr*yr -> 4 рекурсивных вызова на умножение числе с в 2 раза меньшей длинной.\n",
    "Сложность T(n) = 4*T(n/2) + O(n^2), где 4*T это 4 рекурсивны вызова. => T(n) <= O(n^2)\n",
    "\n",
    "улучшение алгоритма\n",
    "для вычисления (xlyr+xr*yl) используется (xl + xr)*(yl + yr) = (xlyr+xr*yl) - xl*yl -  xr*yr. Вычитаемые слагаемые у нас уже есть. Причем в скобках не исходные числа (нет умножения старшей части на 2^(n/2).\n",
    "в итоге T(n) = 3*T(n/2) + O(n^2)\n",
    "\n",
    "получается алгоритм Карацубы (задачу которому ставил Колмогоров), сложность которого O(n^log2(3)=1.59...). Быстрее только аглоритм на БПФ - почти линейный."
   ]
  },
  {
   "cell_type": "code",
   "execution_count": 2,
   "metadata": {},
   "outputs": [
    {
     "data": {
      "text/plain": [
       "144"
      ]
     },
     "execution_count": 2,
     "metadata": {},
     "output_type": "execute_result"
    }
   ],
   "source": [
    "def karatsuba(x, y):\n",
    "    if len(str(x)) == 1 or len(str(y)) == 1:\n",
    "        return x*y\n",
    "    else:\n",
    "        m = max(len(str(x)),len(str(y)))\n",
    "        m2 = m // 2\n",
    "\n",
    "        a = x // 10**(m2)\n",
    "        b = x % 10**(m2)\n",
    "        c = y // 10**(m2)\n",
    "        d = y % 10**(m2)\n",
    "\n",
    "        z0 = karatsuba(b,d)\n",
    "        z1 = karatsuba((a+b),(c+d))\n",
    "        z2 = karatsuba(a,c)\n",
    "\n",
    "        return (z2 * 10**(2*m2)) + ((z1 - z2 - z0) * 10**(m2)) + (z0)\n",
    "\n",
    "karatsuba(12,12)"
   ]
  },
  {
   "cell_type": "code",
   "execution_count": 3,
   "metadata": {},
   "outputs": [
    {
     "data": {
      "image/png": "[encoded data removed]",
      "text/plain": [
       "<Figure size 432x288 with 1 Axes>"
      ]
     },
     "metadata": {
      "needs_background": "light"
     },
     "output_type": "display_data"
    }
   ],
   "source": [
    "from matplotlib import pyplot as plt\n",
    "import time, random, string\n",
    "\n",
    "def timed(f, *args, n_iter=100):\n",
    "    acc = float('inf')\n",
    "    for i in range(n_iter):\n",
    "        t0 = time.perf_counter_ns()\n",
    "        f(*args)\n",
    "        t1 = time.perf_counter_ns()\n",
    "        acc = min(acc, t1 - t0)\n",
    "    return acc\n",
    "\n",
    "def m(x, y):\n",
    "    return x * y\n",
    "\n",
    "N, step = 10000, 1\n",
    "args = list(zip(range(0, N, step), range(0, N, step)))\n",
    "xs = list(range(0, N, step))\n",
    "plt.plot(xs, [timed(m, x, y, n_iter=10) for x, y in args], label=\"builtin mult\")\n",
    "plt.plot(xs, [timed(multipy, x, y, n_iter=10) for x, y in args], label=\"mymult\")\n",
    "plt.plot(xs, [timed(karatsuba, x, y, n_iter=10) for x, y in args], label=\"karatsuba\")\n",
    "plt.legend()\n",
    "plt.grid(True)\n",
    "plt.show()\n",
    "\n"
   ]
  },
  {
   "cell_type": "markdown",
   "metadata": {},
   "source": [
    "PS умножение матриц. Алгоритм Штрассена.\n",
    "\n",
    "Аналогичные замены приводят O(n^3) к рекурсивной схеме с 7 шагами, что дает O(n^log2(7)=2,8) оптимизации. При этом константа очень большая, и выгода от алгоритма получается только на очень больших матрицах."
   ]
  },
  {
   "cell_type": "code",
   "execution_count": null,
   "metadata": {},
   "outputs": [],
   "source": []
  }
 ],
 "metadata": {
  "kernelspec": {
   "display_name": "Python 3.8.5 64-bit ('py38': venv)",
   "name": "python385jvsc74a57bd04a0ad87e8b5d33768bd025306b84ef7a0f3cfeaa852ee58d9b819e0e4cbb3e53"
  },
  "language_info": {
   "codemirror_mode": {
    "name": "ipython",
    "version": 2
   },
   "file_extension": ".py",
   "mimetype": "text/x-python",
   "name": "python",
   "nbconvert_exporter": "python",
   "pygments_lexer": "ipython2",
   "version": "3.8.5"
  },
  "metadata": {
   "interpreter": {
    "hash": "4a0ad87e8b5d33768bd025306b84ef7a0f3cfeaa852ee58d9b819e0e4cbb3e53"
   }
  }
 },
 "nbformat": 4,
 "nbformat_minor": 0
}
