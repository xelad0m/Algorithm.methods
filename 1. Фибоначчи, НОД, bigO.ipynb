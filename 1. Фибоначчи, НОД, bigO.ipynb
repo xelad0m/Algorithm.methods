{
 "cells": [
  {
   "cell_type": "markdown",
   "metadata": {},
   "source": [
    "<!-- vscode-jupyter-toc -->\n",
    "<!-- THIS CELL WILL BE REPLACED ON TOC UPDATE. DO NOT WRITE YOUR TEXT IN THIS CELL -->\n",
    "<a id='toc0_'></a>**Содержание**    \n",
    "- [Числа Фибоначчи](#toc1_)    \n",
    "  - [Ленивые вычисления (кэшировние, мемоизация)](#toc1_1_)    \n",
    "  - [Время работы](#toc1_2_)    \n",
    "  - [Задача на программирование: небольшое число Фибоначчи](#toc1_3_)    \n",
    "  - [Задача на программирование: последняя цифра большого числа Фибоначчи](#toc1_4_)    \n",
    "- [Наибольший общий делитель (GCD)](#toc2_)    \n",
    "  - [Алгоритм Эвклида](#toc2_1_)    \n",
    "- [Пределы для задач на O-нотацию](#toc3_)    \n",
    "\n",
    "<!-- vscode-jupyter-toc-config\n",
    "\tnumbering=false\n",
    "\tanchor=true\n",
    "\tminLevel=1\n",
    "\tmaxLevel=6\n",
    "\t/vscode-jupyter-toc-config -->\n",
    "<!-- /vscode-jupyter-toc -->"
   ]
  },
  {
   "cell_type": "markdown",
   "metadata": {},
   "source": [
    "# <a id='toc1_'></a>[Числа Фибоначчи](#toc0_)\n",
    "\n",
    "Визуализатор рекурсии\n",
    "\n",
    "    from rcviz import viz\n",
    "    fib1 = viz(fib1)\n",
    "    fib1(5)"
   ]
  },
  {
   "cell_type": "code",
   "execution_count": 2,
   "metadata": {
    "collapsed": true
   },
   "outputs": [
    {
     "data": {
      "text/plain": [
       "(21, 987)"
      ]
     },
     "execution_count": 2,
     "metadata": {},
     "output_type": "execute_result"
    }
   ],
   "source": [
    "# наивная реализация по определению\n",
    "def fib1(n):\n",
    "    assert n >= 0\n",
    "    return n if n <= 1 else fib1(n - 1) + fib1(n - 2)\n",
    "\n",
    "fib1(8), fib1(16)"
   ]
  },
  {
   "cell_type": "markdown",
   "metadata": {},
   "source": [
    "## <a id='toc1_1_'></a>[Ленивые вычисления (кэшировние, мемоизация)](#toc0_)\n",
    "\n",
    "- полное ручное (словарь/массив)\n",
    "- полное ручное (обертка (декоратор) со словарем/массивом)\n",
    "- встроенные инструменты (functools.lru_cache)\n",
    "- минимально необходимые данные для кеширования"
   ]
  },
  {
   "cell_type": "code",
   "execution_count": 3,
   "metadata": {},
   "outputs": [
    {
     "data": {
      "text/plain": [
       "(21, 987)"
      ]
     },
     "execution_count": 3,
     "metadata": {},
     "output_type": "execute_result"
    }
   ],
   "source": [
    "cache = {}\n",
    "\n",
    "def fib2(n):\n",
    "    assert n >= 0\n",
    "    if n not in cache:\n",
    "        cache[n] = n if n <= 1 else fib2(n - 1) + fib2(n - 2)\n",
    "    return cache[n]\n",
    "\n",
    "fib2(8), fib2(16)"
   ]
  },
  {
   "cell_type": "code",
   "execution_count": 4,
   "metadata": {},
   "outputs": [
    {
     "data": {
      "text/plain": [
       "(21, 987)"
      ]
     },
     "execution_count": 4,
     "metadata": {},
     "output_type": "execute_result"
    }
   ],
   "source": [
    "def memo(f):\n",
    "    \"\"\" декоратор, сохраняющий результаты в кэш\n",
    "    аналог functools.lru_cache\"\"\"\n",
    "    local_cache = {}\n",
    "\n",
    "    def wrapper(n):\n",
    "        if n not in local_cache:\n",
    "            local_cache[n] = f(n)\n",
    "        return local_cache[n]\n",
    "    return wrapper\n",
    "\n",
    "@memo   \n",
    "def fib3(n):\n",
    "    assert n >= 0\n",
    "    return n if n <= 1 else fib3(n - 1) + fib3(n - 2)\n",
    "\n",
    "\n",
    "fib3(8), fib3(16)\n"
   ]
  },
  {
   "cell_type": "code",
   "execution_count": 5,
   "metadata": {},
   "outputs": [
    {
     "data": {
      "text/plain": [
       "(21, 987, 23416728348467685)"
      ]
     },
     "execution_count": 5,
     "metadata": {},
     "output_type": "execute_result"
    }
   ],
   "source": [
    "from functools import lru_cache     # в 1,6 раза эффективнее ручного кеша на словаре\n",
    "\n",
    "@lru_cache(maxsize=None)            # кэшировать все значения\n",
    "def fib4(n):\n",
    "    assert n >= 0\n",
    "    return n if n <= 1 else fib4(n - 1) + fib4(n - 2)\n",
    "\n",
    "fib4(8), fib4(16), fib4(80)"
   ]
  },
  {
   "cell_type": "code",
   "execution_count": 6,
   "metadata": {},
   "outputs": [
    {
     "data": {
      "text/plain": [
       "(13,\n",
       " 610,\n",
       " 14472334024676221,\n",
       " 26863810024485359386146727202142923967616609318986952340123175997617981700247881689338369654483356564191827856161443356312976673642210350324634850410377680367334151172899169723197082763985615764450078474174626)"
      ]
     },
     "execution_count": 6,
     "metadata": {},
     "output_type": "execute_result"
    }
   ],
   "source": [
    "def fib5(n):\n",
    "    assert n >= 0\n",
    "    fn, fn1 = 1, 0\n",
    "    for i in range(n-1):\n",
    "        fn, fn1 = fn + fn1, fn\n",
    "    return fn  \n",
    "\n",
    "\n",
    "def fib5(n):  # запоминаем только реально нужные вызовы\n",
    "    f0, f1 = 0, 1\n",
    "    if n > 1:\n",
    "        for i in range(2, n):\n",
    "            f1, f0 = f1 + f0, f1\n",
    "        return f1\n",
    "    else:\n",
    "        return f1 if n == 2 else f0\n",
    "\n",
    "fib5(8), fib5(16), fib5(80), fib5(1000)"
   ]
  },
  {
   "cell_type": "markdown",
   "metadata": {},
   "source": [
    "## <a id='toc1_2_'></a>[Время работы](#toc0_)"
   ]
  },
  {
   "cell_type": "code",
   "execution_count": 7,
   "metadata": {},
   "outputs": [
    {
     "data": {
      "image/png": "[encoded data removed]",
      "text/plain": [
       "<Figure size 432x288 with 1 Axes>"
      ]
     },
     "metadata": {
      "needs_background": "light"
     },
     "output_type": "display_data"
    },
    {
     "data": {
      "image/png": "[encoded data removed]",
      "text/plain": [
       "<Figure size 432x288 with 1 Axes>"
      ]
     },
     "metadata": {
      "needs_background": "light"
     },
     "output_type": "display_data"
    },
    {
     "data": {
      "image/png": "[encoded data removed]",
      "text/plain": [
       "<Figure size 432x288 with 1 Axes>"
      ]
     },
     "metadata": {
      "needs_background": "light"
     },
     "output_type": "display_data"
    }
   ],
   "source": [
    "import time\n",
    "from matplotlib import pyplot as plt\n",
    "\n",
    "def timed(f, *args, n_iter=100):\n",
    "    acc = float('inf')\n",
    "    for i in range(n_iter):\n",
    "        t0 = time.perf_counter_ns()\n",
    "        f(*args)\n",
    "        t1 = time.perf_counter_ns()\n",
    "        acc = min(acc, t1 - t0)\n",
    "    return acc\n",
    "\n",
    "def compare(fs, args):\n",
    "    # xs = list(range(len(args)))\n",
    "    for f in fs:\n",
    "        plt.plot(args, [timed(f, chunk) for chunk in args],\n",
    "                 label=f.__name__)\n",
    "    plt.legend()\n",
    "    plt.grid(True)\n",
    "    plt.show()\n",
    "\n",
    "compare([fib1], list(range(20)))       # не кеширует предыдущие вычисления и многократно считает f(n-1)\n",
    "compare([fib2, fib3, fib4], list(range(200)))\n",
    "compare([fib5], list(range(200)))      # не кеширует предыдущие вычисления"
   ]
  },
  {
   "cell_type": "markdown",
   "metadata": {},
   "source": [
    "## <a id='toc1_3_'></a>[Задача на программирование: небольшое число Фибоначчи](#toc0_)\n",
    "Дано целое число 1≤n≤40, необходимо вычислить n-е число Фибоначчи\n",
    "\n",
    "## <a id='toc1_4_'></a>[Задача на программирование: последняя цифра большого числа Фибоначчи](#toc0_)\n",
    "\n",
    "Дано число 1≤n≤10^7, необходимо найти последнюю цифру n-го числа Фибоначчи."
   ]
  },
  {
   "cell_type": "code",
   "execution_count": 8,
   "metadata": {},
   "outputs": [
    {
     "name": "stdout",
     "output_type": "stream",
     "text": [
      "0 1\n",
      "1 1\n",
      "1 2\n",
      "2 3\n",
      "3 5\n",
      "5 8\n",
      "8 3\n",
      "13 1\n",
      "21 4\n",
      "34 5\n"
     ]
    }
   ],
   "source": [
    "def fib_digit(n):\n",
    "    Fn, Fn1 = 1, 0\n",
    "    for i in range(2, n+1):\n",
    "        if Fn > 10: Fn = Fn % 10\n",
    "        Fn, Fn1 = (Fn + Fn1) % 10, Fn\n",
    "    if n == 0: Fn = 0\n",
    "    return Fn  \n",
    "\n",
    "N = 10\n",
    "for n in range(1,N+1):\n",
    "    print(fib5(n), fib_digit(n))"
   ]
  },
  {
   "cell_type": "markdown",
   "metadata": {},
   "source": [
    "# <a id='toc2_'></a>[Наибольший общий делитель (GCD)](#toc0_)"
   ]
  },
  {
   "cell_type": "code",
   "execution_count": 9,
   "metadata": {},
   "outputs": [],
   "source": [
    "import random\n",
    "\n",
    "def test(gcd, n_iter=10):\n",
    "    \"\"\"testing gcd\"\"\"\n",
    "    for i in range(n_iter):\n",
    "        c = random.randint(0, 1024)\n",
    "        a = c * random.randint(0, 128)\n",
    "        b = c * random.randint(0, 128)\n",
    "        assert gcd(a, a) == gcd(a, 0) == a\n",
    "        assert gcd(b, b) == gcd(b, 0) == b\n",
    "        assert gcd(a, 1) == gcd(b, 1) == 1\n",
    "        d = gcd(a, b)\n",
    "        assert a % d == b % d == 0"
   ]
  },
  {
   "cell_type": "code",
   "execution_count": 10,
   "metadata": {},
   "outputs": [
    {
     "data": {
      "text/plain": [
       "(1, 8, 0)"
      ]
     },
     "execution_count": 10,
     "metadata": {},
     "output_type": "execute_result"
    }
   ],
   "source": [
    "# полный перебор\n",
    "def gcd1(a, b):\n",
    "    assert a >= 0 and b >= 0\n",
    "    for d in reversed(range(max(a, b) + 1)):\n",
    "        if d == 0 or a % d == b % d == 0:\n",
    "            return d\n",
    "\n",
    "test(gcd1)\n",
    "\n",
    "gcd1(8, 3), gcd1(8, 0), gcd1(0, 0)"
   ]
  },
  {
   "cell_type": "markdown",
   "metadata": {},
   "source": [
    "## <a id='toc2_1_'></a>[Алгоритм Эвклида](#toc0_)\n",
    "\n",
    "- НОД (a % b, b) == НОД(a, b)"
   ]
  },
  {
   "cell_type": "code",
   "execution_count": 11,
   "metadata": {},
   "outputs": [
    {
     "data": {
      "text/plain": [
       "100000000000000"
      ]
     },
     "execution_count": 11,
     "metadata": {},
     "output_type": "execute_result"
    }
   ],
   "source": [
    "# итеративный\n",
    "def gcd2(a, b):\n",
    "    assert a >= 0 and b >= 0\n",
    "    while a and b:\n",
    "        if a >= b:\n",
    "            a %= b\n",
    "        else:\n",
    "            b %= a\n",
    "    return max(a, b)\n",
    "\n",
    "test(gcd2)\n",
    "\n",
    "gcd2(100000000000000, 1000000000000000000)"
   ]
  },
  {
   "cell_type": "code",
   "execution_count": 12,
   "metadata": {},
   "outputs": [
    {
     "data": {
      "text/plain": [
       "(3, 3, 3, 3)"
      ]
     },
     "execution_count": 12,
     "metadata": {},
     "output_type": "execute_result"
    }
   ],
   "source": [
    "# рекурсивный\n",
    "def gcd3(a, b):\n",
    "    assert a >= 0 and b >= 0\n",
    "    if a == 0 or b == 0:\n",
    "        return max(a, b)\n",
    "    elif a >= b:\n",
    "        return gcd3(a % b, b)\n",
    "    else:\n",
    "        return gcd3(a, b % a)\n",
    "\n",
    "test(gcd3)\n",
    "\n",
    "gcd3(24, 9), gcd3(6, 9), gcd3(6, 3), gcd3(0, 3) "
   ]
  },
  {
   "cell_type": "code",
   "execution_count": 13,
   "metadata": {},
   "outputs": [],
   "source": [
    "# оптимизированный рекурсивный\n",
    "def gcd4(a, b):         \n",
    "    assert a >= 0 and b >= 0\n",
    "    if a == 0 or b == 0:\n",
    "        return max(a, b)\n",
    "    return gcd4(b % a, a)\n",
    "\n",
    "test(gcd4)"
   ]
  },
  {
   "cell_type": "markdown",
   "metadata": {},
   "source": [
    "# <a id='toc3_'></a>[Пределы для задач на O-нотацию](#toc0_)"
   ]
  },
  {
   "cell_type": "code",
   "execution_count": 14,
   "metadata": {},
   "outputs": [],
   "source": [
    "from sympy import limit, Symbol, oo, log, sqrt, factorial\n",
    "\n",
    "x = Symbol('x')\n",
    "\n"
   ]
  },
  {
   "cell_type": "code",
   "execution_count": 15,
   "metadata": {},
   "outputs": [
    {
     "name": "stdout",
     "output_type": "stream",
     "text": [
      "x -> oo:\n",
      "\n",
      "sqrt(x)*log(2)**3/log(x)**3 -> oo\n",
      "10*log(2)/log(x) -> 0\n",
      "100*x*log(x)/((x + log(x)**2/log(2)**2)*log(2)) -> oo\n",
      "x*log(2)**2/(log(3)*log(x)) -> oo\n",
      "log(2)*log(2*x)/(log(3)*log(3*x)) -> log(2)/log(3)\n",
      "2**x*3**(-x)*x -> 0\n",
      "x**0.3*log(5)/log(x) -> oo\n"
     ]
    }
   ],
   "source": [
    "expressions = [sqrt(x) / log(x, 2)**3,\n",
    "               10*log(x, 2) / log(x, 2)**2,\n",
    "               100*x*log(x, 2) / (x + log(x, 2)**2),\n",
    "               (x**2 * log(x, 3)) / (x * log(x, 2)**2),\n",
    "               log(2*x, 3) / log(3*x, 2),\n",
    "               x * 2**x / 3**x,\n",
    "               x**(3/10) / log(x, 5)]\n",
    "\n",
    "\n",
    "print(\"x -> oo:\\n\")\n",
    "for expr in expressions:\n",
    "    limit_expr = limit(expr, x, oo)  # третий аргумент к чему стремится x (0 - нуль, oo - плюс бесконечность)\n",
    "    print(\"{} -> {}\".format(expr, limit_expr))"
   ]
  },
  {
   "cell_type": "code",
   "execution_count": 16,
   "metadata": {},
   "outputs": [
    {
     "data": {
      "text/plain": [
       "[[0], [oo, 0], [oo, 0], [oo, 0], [oo, 0], [oo, 0], [oo, 0], [oo, 0], [oo]]"
      ]
     },
     "execution_count": 16,
     "metadata": {},
     "output_type": "execute_result"
    }
   ],
   "source": [
    "n = Symbol('n')\n",
    "expressions = [log(log(n, 2)),\n",
    "               sqrt(log(n, 4)), \n",
    "               log(n, 3), \n",
    "               log(n, 2) ** 2, \n",
    "               sqrt(n), \n",
    "               n / log(n, 5), \n",
    "               log(factorial(n),2), \n",
    "               3 ** log(n, 2), \n",
    "               n ** 2, \n",
    "               7 ** (log(n, 2)), \n",
    "               log(n, 2) ** (log(n, 2)),\n",
    "               n ** (log(n, 2)),                \n",
    "               n ** (sqrt(n)), \n",
    "               2 ** n, \n",
    "               4 ** n, \n",
    "               2 ** (3 * n), \n",
    "               factorial(n), \n",
    "               2 ** (2 ** n)\n",
    "               ]\n",
    "\n",
    "expressions = [log(n, 2),\n",
    "               n**log(2, 3), \n",
    "               n*log(n,2),\n",
    "               n**log(5, 4), \n",
    "               n**log(3, 2), \n",
    "               n**2, \n",
    "               n**2 * log(n,2),\n",
    "               n**log(5, 2), \n",
    "               n**3\n",
    "               ]\n",
    "\n",
    "res = []\n",
    "limits = []\n",
    "\n",
    "for i in range(len(expressions)):\n",
    "    for j in range(len(expressions)):\n",
    "        if (i - j) in (-1, 1):\n",
    "            limit_expr = limit(expressions[i] / expressions[j], n, oo)\n",
    "            limits.append(limit_expr)\n",
    "    res.append(limits)\n",
    "    limits = []\n",
    "\n",
    "res     # порядок возрастания сложности правильный, когда предел отношения ко всем предыдущим inf, а к следующим 0."
   ]
  },
  {
   "cell_type": "code",
   "execution_count": null,
   "metadata": {},
   "outputs": [],
   "source": []
  }
 ],
 "metadata": {
  "kernelspec": {
   "display_name": "Python 3.8.5 64-bit ('py38': venv)",
   "name": "python385jvsc74a57bd04a0ad87e8b5d33768bd025306b84ef7a0f3cfeaa852ee58d9b819e0e4cbb3e53"
  },
  "language_info": {
   "codemirror_mode": {
    "name": "ipython",
    "version": 2
   },
   "file_extension": ".py",
   "mimetype": "text/x-python",
   "name": "python",
   "nbconvert_exporter": "python",
   "pygments_lexer": "ipython2",
   "version": "3.8.5"
  },
  "metadata": {
   "interpreter": {
    "hash": "4a0ad87e8b5d33768bd025306b84ef7a0f3cfeaa852ee58d9b819e0e4cbb3e53"
   }
  }
 },
 "nbformat": 4,
 "nbformat_minor": 2
}
