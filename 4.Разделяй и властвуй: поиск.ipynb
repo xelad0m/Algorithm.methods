{
 "cells": [
  {
   "cell_type": "markdown",
   "metadata": {
    "collapsed": true
   },
   "source": [
    "# \"Разделяй и влавствуй\"\n",
    "\n",
    "## Задача на программирование: двоичный поиск\n",
    "\n",
    "﻿\n",
    "\n",
    "В первой строке даны целое число 1≤n≤10^5 и массив A[1…n] из n различных натуральных чисел, не превышающих 10^9, в порядке возрастания, во второй — целое число 1≤k≤10^5 и k натуральных чисел b1,…,bk, не превышающих 10^9. Для каждого iот 1 до k необходимо вывести индекс 1≤j≤n, для которого A[j]=bi, или −1, если такого j нет."
   ]
  },
  {
   "cell_type": "code",
   "execution_count": 1,
   "metadata": {},
   "outputs": [],
   "source": [
    "INPUTS = \"\"\"5 1 5 8 12 13\n",
    "9 8 1 23 1 11 13 15 13 1\"\"\""
   ]
  },
  {
   "cell_type": "code",
   "execution_count": 2,
   "metadata": {
    "collapsed": false
   },
   "outputs": [
    {
     "name": "stdout",
     "output_type": "stream",
     "text": [
      "3 1 -1 1 -1 5 -1 5 1 "
     ]
    }
   ],
   "source": [
    "def binarySearch(a, k):\n",
    "    l, r = 0, len(a)\n",
    "    while l < r:\n",
    "        m = l + (r - l) // 2\n",
    "        if a[m] == k:\n",
    "            return m + 1\n",
    "        elif a[m] > k:\n",
    "            r = m\n",
    "        else:\n",
    "            l = m + 1    \n",
    "    return -1\n",
    "    \n",
    "def main():\n",
    "    reader = (list(map(int, line.split())) for line in INPUTS.split('\\n'))\n",
    "    _, *A = next(reader)\n",
    "    _, *K = next(reader)\n",
    "    for k in K:\n",
    "        print(binarySearch(A, k), end=' ')   \n",
    "    \n",
    "main()"
   ]
  },
  {
   "cell_type": "markdown",
   "metadata": {},
   "source": [
    "## Теоретическая задача на peer-review: неподвижная точка в массиве \n",
    "\n",
    "Дан упорядоченный по возрастанию массив различных целых чисел A[1…n]: A[1]<A[2]<…<A[n]. Постройте алгоритм, проверяющий за время O(log⁡n), найдётся ли такое i, что A[i]=i.\n",
    "\n",
    "=> числа целые как и индексы. Дельта индекса =1, дельта значения >=1. При заданных условиях пересечь диагональ A[i]=i массив может только один раз, либо он будет совпадать с ней на некотором участке, и только в случае, если начинается массив с чисел >=0. => Берется середина массива, если A[i]<i, то правая граница меняется на середину, иначе - левая граница. Ускорению может способствовать проверка A[1] > 1 => неподвижной точки нет.\n"
   ]
  }
 ],
 "metadata": {
  "kernelspec": {
   "display_name": "Python 2",
   "language": "python",
   "name": "python2"
  },
  "language_info": {
   "codemirror_mode": {
    "name": "ipython",
    "version": 2
   },
   "file_extension": ".py",
   "mimetype": "text/x-python",
   "name": "python",
   "nbconvert_exporter": "python",
   "pygments_lexer": "ipython2",
   "version": "2.7.6"
  }
 },
 "nbformat": 4,
 "nbformat_minor": 0
}